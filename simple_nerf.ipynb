{
 "cells": [
  {
   "cell_type": "code",
   "execution_count": 29,
   "metadata": {
    "vscode": {
     "languageId": "html"
    }
   },
   "outputs": [
    {
     "data": {
      "text/html": [
       "<style>\n",
       "    @import url('https://fonts.googleapis.com/css2?family=Open+Sans:wght@100..900&display=swap');\n",
       "    @page {\n",
       "        size: A3 landscape;\n",
       "        margin: 0;\n",
       "    }\n",
       "    .jp-Cell:first-child {\n",
       "        display: none;\n",
       "    }\n",
       "    .jp-RenderedMermaid {\n",
       "        justify-content: center;\n",
       "    }\n",
       "    body, div#notebook, .jp-RenderedHTMLCommon {\n",
       "        font-family: \"Open Sans\", sans-serif !important;\n",
       "        font-size: 30px !important;\n",
       "        font-weight: 500;\n",
       "        line-height: 1.4 !important;\n",
       "    }\n",
       "    body, p {\n",
       "        margin: 0;\n",
       "    }\n",
       "    blockquote {\n",
       "        border: none;\n",
       "        text-align: center;\n",
       "        opacity: 0.5;\n",
       "    }\n",
       "    blockquote p {\n",
       "        text-align: inherit !important;\n",
       "    }\n",
       "    h1 {\n",
       "        margin-top: 30% !important;\n",
       "        text-align: center;\n",
       "    }\n",
       "    h2 {\n",
       "        page-break-before: always;\n",
       "    }\n",
       "    h1, h2, h3, h4, h5, h6, strong {\n",
       "        font-weight: 800;\n",
       "    }\n",
       "    h1 { \n",
       "        font-size: 225% !important;\n",
       "    }\n",
       "    h2 {\n",
       "        font-size: 180% !important;\n",
       "    }\n",
       "    h3 {\n",
       "        font-size: 150% !important;\n",
       "    }\n",
       "    h4 {\n",
       "        font-size: 120% !important;\n",
       "    }\n",
       "    h5 {\n",
       "        font-size: 110% !important;\n",
       "    }\n",
       "    h6 {\n",
       "        font-size: 100% !important;\n",
       "    }\n",
       "    hr {\n",
       "        page-break-after: always;\n",
       "        visibility: hidden;\n",
       "    }\n",
       "    pre {\n",
       "        white-space: pre-wrap;\n",
       "    }\n",
       "    table, td, th, tr, tbody, thead, tfoot {\n",
       "        font-size: 92% !important;\n",
       "        page-break-inside: avoid !important;\n",
       "    }\n",
       "    .anchor-link {\n",
       "        display: none;\n",
       "    }\n",
       "    .MJXc-display {\n",
       "        display: inline !important;\n",
       "    }\n",
       "    :root {\n",
       "        --jp-content-link-color: dodgerblue;\n",
       "    }\n",
       "    a code {\n",
       "        color: var(--jp-content-link-color) !important;\n",
       "    }\n",
       "    code, pre {\n",
       "        font-family: Menlo, monospace !important;\n",
       "    }\n",
       "    h1, h2, h3, h4, h5, h6, strong {\n",
       "        font-weight: 800 !important;\n",
       "    }\n",
       "    .jp-RenderedHTMLCommon td,\n",
       "    .jp-RenderedHTMLCommon th,\n",
       "    .jp-RenderedHTMLCommon tr {\n",
       "        border: 1px solid var(--md-grey-500);\n",
       "    }\n",
       "    .jp-RenderedHTMLCommon table {\n",
       "        margin-left: 2em;\n",
       "    }\n",
       "    .jp-CodeCell {\n",
       "        margin-bottom: 1.5em;\n",
       "    }\n",
       "</style>\n"
      ],
      "text/plain": [
       "<IPython.core.display.HTML object>"
      ]
     },
     "metadata": {},
     "output_type": "display_data"
    }
   ],
   "source": [
    "%%html\n",
    "<style>\n",
    "    @import url('https://fonts.googleapis.com/css2?family=Open+Sans:wght@100..900&display=swap');\n",
    "    @page {\n",
    "        size: A3 landscape;\n",
    "        margin: 0;\n",
    "    }\n",
    "    .jp-Cell:first-child {\n",
    "        display: none;\n",
    "    }\n",
    "    .jp-RenderedMermaid {\n",
    "        justify-content: center;\n",
    "    }\n",
    "    body, div#notebook, .jp-RenderedHTMLCommon {\n",
    "        font-family: \"Open Sans\", sans-serif !important;\n",
    "        font-size: 30px !important;\n",
    "        font-weight: 500;\n",
    "        line-height: 1.4 !important;\n",
    "    }\n",
    "    body, p {\n",
    "        margin: 0;\n",
    "    }\n",
    "    blockquote {\n",
    "        border: none;\n",
    "        text-align: center;\n",
    "        opacity: 0.5;\n",
    "    }\n",
    "    blockquote p {\n",
    "        text-align: inherit !important;\n",
    "    }\n",
    "    h1 {\n",
    "        margin-top: 30% !important;\n",
    "        text-align: center;\n",
    "    }\n",
    "    h2 {\n",
    "        page-break-before: always;\n",
    "    }\n",
    "    h1, h2, h3, h4, h5, h6, strong {\n",
    "        font-weight: 800;\n",
    "    }\n",
    "    h1 { \n",
    "        font-size: 225% !important;\n",
    "    }\n",
    "    h2 {\n",
    "        font-size: 180% !important;\n",
    "    }\n",
    "    h3 {\n",
    "        font-size: 150% !important;\n",
    "    }\n",
    "    h4 {\n",
    "        font-size: 120% !important;\n",
    "    }\n",
    "    h5 {\n",
    "        font-size: 110% !important;\n",
    "    }\n",
    "    h6 {\n",
    "        font-size: 100% !important;\n",
    "    }\n",
    "    hr {\n",
    "        page-break-after: always;\n",
    "        visibility: hidden;\n",
    "    }\n",
    "    pre {\n",
    "        white-space: pre-wrap;\n",
    "    }\n",
    "    table, td, th, tr, tbody, thead, tfoot {\n",
    "        font-size: 92% !important;\n",
    "        page-break-inside: avoid !important;\n",
    "    }\n",
    "    .anchor-link {\n",
    "        display: none;\n",
    "    }\n",
    "    .MJXc-display {\n",
    "        display: inline !important;\n",
    "    }\n",
    "    :root {\n",
    "        --jp-content-link-color: dodgerblue;\n",
    "    }\n",
    "    a code {\n",
    "        color: var(--jp-content-link-color) !important;\n",
    "    }\n",
    "    code, pre {\n",
    "        font-family: Menlo, monospace !important;\n",
    "    }\n",
    "    h1, h2, h3, h4, h5, h6, strong {\n",
    "        font-weight: 800 !important;\n",
    "    }\n",
    "    .jp-RenderedHTMLCommon td,\n",
    "    .jp-RenderedHTMLCommon th,\n",
    "    .jp-RenderedHTMLCommon tr {\n",
    "        border: 1px solid var(--md-grey-500);\n",
    "    }\n",
    "    .jp-RenderedHTMLCommon table {\n",
    "        margin-left: 2em;\n",
    "    }\n",
    "    .jp-CodeCell {\n",
    "        margin-bottom: 1.5em;\n",
    "    }\n",
    "</style>"
   ]
  },
  {
   "cell_type": "markdown",
   "metadata": {},
   "source": [
    "# View Synthesis\n",
    "\n",
    "> Implementing NeRF in PyTorch"
   ]
  },
  {
   "cell_type": "markdown",
   "metadata": {},
   "source": [
    "## Task Description\n",
    "\n",
    "\"View synthesis\" is a task which\n",
    "generating images of a 3D scene from a specific point of view."
   ]
  },
  {
   "cell_type": "markdown",
   "metadata": {},
   "source": [
    "## Solution Description\n",
    "\n",
    "\"NeRF\" (Neural Radiance Field) solved \"View synthesis\"\n",
    "by representing 3D scene using a neural network."
   ]
  },
  {
   "cell_type": "markdown",
   "metadata": {},
   "source": [
    "## Pipeline Description\n",
    "\n",
    "Many modules compose the pipeline of NeRF:\n",
    "1. Preprocessing\n",
    "2. Inference\n",
    "3. Rendering\n",
    "4. Training"
   ]
  },
  {
   "cell_type": "markdown",
   "metadata": {},
   "source": [
    "## Pipeline Description - Preprocessing\n",
    "\n",
    "{{ True image }} → {{ Position, Direction, True color }}"
   ]
  },
  {
   "cell_type": "markdown",
   "metadata": {},
   "source": [
    "## Pipeline Description - Inference\n",
    "\n",
    "{{ Position, Direction }} → {{ Volumetric sampling }} → {{ Positional encoding }} → {{ Network }} → {{ Color, Density }}"
   ]
  },
  {
   "cell_type": "markdown",
   "metadata": {},
   "source": [
    "## Pipeline Description - Rendering\n",
    "\n",
    "{{ Color, Density }} → {{ Alpha blending }} → {{ Rendered color }}"
   ]
  },
  {
   "cell_type": "markdown",
   "metadata": {},
   "source": [
    "## Pipeline Description - Training\n",
    "\n",
    "{{ True color, Rendered color, Network }} → {{ Network }}"
   ]
  },
  {
   "cell_type": "markdown",
   "metadata": {},
   "source": [
    "```mermaid\n",
    "graph TD\n",
    "    subgraph Preprocessing\n",
    "        ti[True Image]\n",
    "        cp[Camera Posture]\n",
    "        tc[True Color]\n",
    "    end\n",
    "\n",
    "    subgraph Inference\n",
    "        vs[Volume Sampling]\n",
    "        B --> C[Ray Generation]\n",
    "        C --> D[Ray Batching]\n",
    "        D --> E[Volume Sampling]\n",
    "        E --> F[Positional Encoding]\n",
    "        F --> G[Network]\n",
    "        G --> H[Color, Density]\n",
    "    end\n",
    "\n",
    "    subgraph Rendering\n",
    "        H --> I[Alpha Blending]\n",
    "        I --> J[Rendered Color]\n",
    "    end\n",
    "\n",
    "    subgraph Training\n",
    "        B -.-> L[Loss Calculation]\n",
    "        J -.-> L\n",
    "        G -.-> L\n",
    "        L --> G\n",
    "    end\n",
    "```"
   ]
  },
  {
   "cell_type": "markdown",
   "metadata": {},
   "source": [
    "## Optimization Description\n",
    "\n",
    "1. Positional Encoding of input coordinates\n",
    "    - For learning high-frequency features\n",
    "    - Using Fourier features\n",
    "2. Stochastic Gradient Descent\n",
    "    - For minimizing the error between the true and rendered images\n",
    "    - Choosing a random image from the dataset each iteration\n",
    "<!-- 3. Hierarchical Sampling\n",
    "    - For high-frequency representions\n",
    "    - Using two networks with different sample size -->"
   ]
  },
  {
   "cell_type": "markdown",
   "metadata": {},
   "source": [
    "## Inference Details\n",
    "\n",
    "### Positional Encoding\n",
    "\n",
    "The raw and encoded coordinate values will be concatenated to form the network input.\n",
    "\n",
    "Each coordinate value in `Position` and `Direction` is encoded as follows:\n",
    "\n",
    "$$\n",
    "Encode_{N}(p) \\\\\n",
    "\n",
    "= \\{\\sin (2^0 \\pi p), \\cos (2^0 \\pi p), \\ldots, \\sin (2^{N-1} \\pi p), \\cos (2^{N-1} \\pi p)\\} \\\\\n",
    "\n",
    "= \\{\\sin (2^0 \\pi p), \\sin (\\frac{\\pi}{2} + 2^0 \\pi p), \\ldots, \\sin (2^{N-1} \\pi p), \\sin (\\frac{\\pi}{2} + 2^{N-1} \\pi p)\\} \\\\\n",
    "\n",
    "\\text{where } p \\in \\mathbb{R}, \\ N \\in \\mathbb{N}, \\ Encode_{N}(p) \\in \\mathbb{R}^{2N}\n",
    "$$\n",
    "\n",
    "## Inference Details (Cont.)\n",
    "\n",
    "### Positional Encoding (Cont.)\n",
    "\n",
    "The encoded dimensions are calculated as follows:\n",
    "\n",
    "| Input     | Dimension | N   | Encoded Dimension |\n",
    "| --------- | --------- | --- | ----------------- |\n",
    "| Position  | 3         | 10  | $3 (1 + 2N) = 63$ |\n",
    "| Direction | 3         | 4   | $3 (1 + 2N) = 27$ |"
   ]
  },
  {
   "cell_type": "markdown",
   "metadata": {},
   "source": [
    "## Inference Details (Cont.)\n",
    "\n",
    "### Neural Prediction\n",
    "\n",
    "The neural network is a multi-layer perceptron (MLP) with the following structure:\n",
    "- The density is not dependent on the direction\n",
    "- The fifth hidden layer concatenates the input as a skip connection\n",
    "\n",
    "----\n",
    "\n",
    "```mermaid\n",
    "%%{init: {\n",
    "    \"theme\": \"neutral\",\n",
    "    \"themeVariables\": {\n",
    "        \"fontFamily\": \"Menlo, monospace\",\n",
    "        \"fontSize\": \"8px\"\n",
    "    }\n",
    "}}%%\n",
    "flowchart TD\n",
    "    ip1([Input Position 3])\n",
    "    ep1([Encoded Position 63])\n",
    "    h1([Hidden Layer 256])\n",
    "    h2([Hidden Layer 256])\n",
    "    h3([Hidden Layer 256])\n",
    "    h4([Hidden Layer 256])\n",
    "    h5([Hidden Layer 256])\n",
    "    ip2([Input Position 3])\n",
    "    ep2([Encoded Position 63])\n",
    "    h6([Hidden Layer 256])\n",
    "    h7([Hidden Layer 256])\n",
    "    h8([Hidden Layer 256])\n",
    "    od([Output Density 1])\n",
    "    iof([Input/Output Feature 256])\n",
    "    id([Input Direction 3])\n",
    "    ed([Encoded Direction 27])\n",
    "    ha([Additional Hidden Layer 128])\n",
    "    oc([Output Color 3])\n",
    "\n",
    "    ip1 -->|Encode| ep1\n",
    "    ep1 -->|ReLU| h1\n",
    "    h1 -->|ReLU| h2\n",
    "    h2 -->|ReLU| h3\n",
    "    h3 -->|ReLU| h4\n",
    "    h4 -->|ReLU| h5\n",
    "    ip2 -->|Encode| ep2\n",
    "    ep2 ---|Concatenate| h5\n",
    "    h5 -->|ReLU| h6\n",
    "    h6 -->|ReLU| h7\n",
    "    h7 -->|ReLU| h8\n",
    "    h8 -->|ReLU| od\n",
    "    h8 --> iof\n",
    "    id -->|Encode| ed\n",
    "    ed ---|Concatenate| iof\n",
    "    iof -->|ReLU| ha\n",
    "    ha -->|Sigmoid| oc\n",
    "\n",
    "    style ip1 fill:palegreen\n",
    "    style ip2 fill:palegreen\n",
    "    style id fill:palegreen\n",
    "    style ep2 fill:mediumaquamarine\n",
    "    style ep1 fill:mediumaquamarine\n",
    "    style ed fill:mediumaquamarine\n",
    "    style h1 fill:deepskyblue\n",
    "    style h2 fill:deepskyblue\n",
    "    style h3 fill:deepskyblue\n",
    "    style h4 fill:deepskyblue\n",
    "    style h5 fill:deepskyblue\n",
    "    style h6 fill:deepskyblue\n",
    "    style h7 fill:deepskyblue\n",
    "    style h8 fill:deepskyblue\n",
    "    style ha fill:deepskyblue\n",
    "    style iof fill:tan\n",
    "    style od fill:salmon\n",
    "    style oc fill:salmon\n",
    "```"
   ]
  },
  {
   "cell_type": "markdown",
   "metadata": {},
   "source": [
    "## Inference Details (Cont.)\n",
    "\n",
    "### Stratified Point Sampling\n",
    "\n",
    "To represent a continuous scene, we can sample points along the rays, which can be written as $r(t_{i}) = o + d t_{i}$ where:\n",
    "- $o$ is the origin point\n",
    "- $d$ is the direction vector\n",
    "- $t_{i} \\sim U[\\frac{i - 1}{N}, \\frac{i}{N}]$ is the distance along the ray (Stratified sampling)\n",
    "- $N$ is the number of samples per ray"
   ]
  },
  {
   "cell_type": "markdown",
   "metadata": {},
   "source": [
    "## Rendering Details (Cont.)\n",
    "\n",
    "### Volume Rendering\n",
    "\n",
    "$$\n",
    "\\hat{C} = \\sum_{i=1}^{N} T_{i} \\alpha_{i} c_{i} \\\\\n",
    "$$"
   ]
  },
  {
   "cell_type": "markdown",
   "metadata": {},
   "source": [
    "## Training Details\n",
    "\n",
    "| Module Name                       | Details                                            |\n",
    "| --------------------------------- | -------------------------------------------------- |\n",
    "| Weight updater - Adam             | Learning rate is $5 \\times 10^{-4}$                |\n",
    "| Loss function - Mean Square Error | Error between the true and rendered image (colors) |\n",
    "| Data loader                       | Batchify sample points to reduce memory cost       |\n"
   ]
  },
  {
   "cell_type": "markdown",
   "metadata": {},
   "source": [
    "## References\n",
    "\n",
    "1. View synthesis. (n.d.). In Wikipedia. Retrieved from https://en.wikipedia.org/wiki/View_synthesis\n",
    "2. Neural radiance field. (n.d.). In Wikipedia. Retrieved from https://en.wikipedia.org/wiki/Neural_radiance_field\n",
    "3. Mildenhall, B., Srinivasan, P. P., Tancik, M., Barron, J. T., Ramamoorthi, R., & Ng, R. (2020). NeRF: Neural radiance fields for image synthesis. arXiv preprint arXiv:2003.08934. Retrieved from https://arxiv.org/pdf/2003.08934\n",
    "4. Tancik, M., Srinivasan, P. P., Mildenhall, B., Fridovich-Keil, S., Raghavan, N., Singhal, U., Ramamoorthi, R., Barron, J. T., & Ng, R. (2020). Fourier features let networks learn high frequency functions in low dimensional domains. NeurIPS. Retrieved from https://arxiv.org/pdf/2006.10739"
   ]
  },
  {
   "cell_type": "markdown",
   "metadata": {},
   "source": [
    "## Implementation"
   ]
  },
  {
   "cell_type": "markdown",
   "metadata": {},
   "source": [
    "----\n",
    "#### Positional Encoding"
   ]
  },
  {
   "cell_type": "code",
   "execution_count": 30,
   "metadata": {},
   "outputs": [],
   "source": [
    "from torch import Tensor\n",
    "from torch.nn import Module\n",
    "from torch.types import Device\n",
    "\n",
    "\n",
    "class PositionalEncoder(Module):\n",
    "    \"\"\"\n",
    "    ## Arguments\n",
    "    - `encoding_factor`: `int`\n",
    "\n",
    "    ## Inputs\n",
    "    1. `Vectors`: `[..., dim]`\n",
    "\n",
    "    ## Outputs\n",
    "    1. `Features`: `[..., dim * (2 * encoding_factor + 1)]`\n",
    "    \"\"\"\n",
    "\n",
    "    def __init__(self, encoding_factor: int, device: Device | None = None):\n",
    "        import torch\n",
    "\n",
    "        super(PositionalEncoder, self).__init__()\n",
    "\n",
    "        encoding_factor = max(int(encoding_factor), 0)\n",
    "\n",
    "        freq_lvls = torch.arange(encoding_factor, device=device)\n",
    "        self.freq = ((2**freq_lvls) * torch.pi).repeat_interleave(2).unsqueeze_(-1)\n",
    "        sine_offsets = torch.tensor([0.0, torch.pi / 2], device=device)\n",
    "        self.offsets = sine_offsets.repeat(encoding_factor).unsqueeze_(-1)\n",
    "\n",
    "    def forward(self, inputs: Tensor) -> Tensor:\n",
    "        import torch\n",
    "\n",
    "        inputs = torch.as_tensor(inputs).unsqueeze(-2)\n",
    "\n",
    "        features = (self.freq * inputs + self.offsets).sin()\n",
    "        features = torch.concat([inputs, features], dim=-2)\n",
    "        features = features.reshape(*inputs.shape[:-2], -1)\n",
    "        return features\n",
    "\n",
    "    def get_last_dim(self, input_dim: int) -> int:\n",
    "        return int(input_dim) * (self.freq.shape[0] + 1)"
   ]
  },
  {
   "cell_type": "markdown",
   "metadata": {},
   "source": [
    "----\n",
    "#### Neural Prediction"
   ]
  },
  {
   "cell_type": "code",
   "execution_count": 31,
   "metadata": {},
   "outputs": [],
   "source": [
    "from torch import Tensor\n",
    "from torch.nn import Module\n",
    "from torch.types import Device\n",
    "\n",
    "\n",
    "class MLP(Module):\n",
    "    \"\"\"\n",
    "    ## Inputs\n",
    "    1. `positions` + `directions`: `[..., 3 + 3]`\n",
    "\n",
    "    ## Outputs\n",
    "    1. `colors` + `densities`: `[..., 3 + 1]`\n",
    "    \"\"\"\n",
    "\n",
    "    def __init__(\n",
    "        self,\n",
    "        layer_count: int | None = None,\n",
    "        hidden_dim: int | None = None,\n",
    "        additional_hidden_dim: int | None = None,\n",
    "        position_encoder: PositionalEncoder | None = None,\n",
    "        direction_encoder: PositionalEncoder | None = None,\n",
    "        device: Device | None = None,\n",
    "    ):\n",
    "        from torch import nn\n",
    "\n",
    "        super(MLP, self).__init__()\n",
    "\n",
    "        layer_count = int(layer_count or 8)\n",
    "        hidden_dim = int(hidden_dim or 256)\n",
    "        additional_hidden_dim = int(additional_hidden_dim or hidden_dim // 2)\n",
    "        if position_encoder is None:\n",
    "            position_encoder = PositionalEncoder(10, device=device)\n",
    "        if direction_encoder is None:\n",
    "            direction_encoder = PositionalEncoder(4, device=device)\n",
    "\n",
    "        COLOR_DIM = 3\n",
    "        DENSITY_DIM = 1\n",
    "        POSITION_DIM = 3\n",
    "        DIRECTION_DIM = 3\n",
    "        encoded_position_dim = position_encoder.get_last_dim(POSITION_DIM)\n",
    "        encoded_direction_dim = direction_encoder.get_last_dim(DIRECTION_DIM)\n",
    "\n",
    "        self.position_hidden_layer_skip_indexs = set(\n",
    "            [i for i in range(1, layer_count - 1) if i % 4 == 0]\n",
    "        )\n",
    "        self.position_input_layer = nn.Linear(\n",
    "            encoded_position_dim,\n",
    "            hidden_dim,\n",
    "            device=device,\n",
    "        )\n",
    "        self.position_hidden_layers = nn.ModuleList(\n",
    "            [\n",
    "                (\n",
    "                    nn.Linear(\n",
    "                        hidden_dim + encoded_position_dim,\n",
    "                        hidden_dim,\n",
    "                        device=device,\n",
    "                    )\n",
    "                    if i in self.position_hidden_layer_skip_indexs\n",
    "                    else nn.Linear(\n",
    "                        hidden_dim,\n",
    "                        hidden_dim,\n",
    "                        device=device,\n",
    "                    )\n",
    "                )\n",
    "                for i in range(layer_count)\n",
    "            ]\n",
    "        )\n",
    "        self.density_output_layer = nn.Linear(\n",
    "            hidden_dim,\n",
    "            DENSITY_DIM,\n",
    "            device=device,\n",
    "        )\n",
    "        self.direction_input_layer = nn.Linear(\n",
    "            hidden_dim + encoded_direction_dim,\n",
    "            additional_hidden_dim,\n",
    "            device=device,\n",
    "        )\n",
    "        self.color_output_layer = nn.Linear(\n",
    "            additional_hidden_dim, COLOR_DIM, device=device\n",
    "        )\n",
    "\n",
    "        self.position_input_encoder = position_encoder\n",
    "        self.direction_input_encoder = direction_encoder\n",
    "\n",
    "    def forward(self, inputs: Tensor) -> tuple[Tensor, Tensor]:\n",
    "        import torch\n",
    "\n",
    "        inputs = torch.as_tensor(inputs)\n",
    "\n",
    "        positions = inputs[..., 0:3]\n",
    "        directions = inputs[..., 3:6]\n",
    "        encoded_positions: Tensor = self.position_input_encoder(positions)\n",
    "        encoded_directions: Tensor = self.direction_input_encoder(directions)\n",
    "\n",
    "        hidden_positions: Tensor = self.position_input_layer(encoded_positions).relu()\n",
    "        for index, layer in enumerate(self.position_hidden_layers):\n",
    "            hidden_positions = layer(\n",
    "                torch.concat([hidden_positions, encoded_positions], dim=-1)\n",
    "                if index in self.position_hidden_layer_skip_indexs\n",
    "                else hidden_positions\n",
    "            )\n",
    "            hidden_positions = hidden_positions.relu()\n",
    "\n",
    "        density: Tensor = self.density_output_layer(hidden_positions).relu()\n",
    "        hidden_directions: Tensor = self.direction_input_layer(\n",
    "            torch.concat([hidden_positions, encoded_directions], dim=-1)\n",
    "        ).relu()\n",
    "        color: Tensor = self.color_output_layer(hidden_directions).sigmoid()\n",
    "\n",
    "        return torch.concat([color, density], dim=-1)"
   ]
  },
  {
   "cell_type": "markdown",
   "metadata": {},
   "source": [
    "----\n",
    "#### Weight Update"
   ]
  },
  {
   "cell_type": "code",
   "execution_count": 32,
   "metadata": {},
   "outputs": [],
   "source": [
    "from torch.optim import Adam\n",
    "from torch.optim.optimizer import ParamsT\n",
    "\n",
    "\n",
    "class AdamWeightUpdater(Adam):\n",
    "    def __init__(self, parameters: ParamsT, learning_rate: float | None = None):\n",
    "        learning_rate = float(learning_rate or 5e-4)\n",
    "\n",
    "        super(AdamWeightUpdater, self).__init__(parameters, lr=learning_rate)\n",
    "\n",
    "    def __call__(self, loss: Tensor) -> None:\n",
    "        self.zero_grad()\n",
    "        loss.backward()\n",
    "        self.step()"
   ]
  },
  {
   "cell_type": "markdown",
   "metadata": {},
   "source": [
    "----\n",
    "#### Ray Generation"
   ]
  },
  {
   "cell_type": "code",
   "execution_count": 33,
   "metadata": {},
   "outputs": [],
   "source": [
    "from torch import Tensor\n",
    "from torch.nn import Module\n",
    "from torch.types import Device\n",
    "\n",
    "\n",
    "class RayGenerator(Module):\n",
    "    \"\"\"\n",
    "    ## Arguments\n",
    "    - `height`: `int`\n",
    "    - `width`: `int`\n",
    "    - `focal`: `float`\n",
    "\n",
    "    ## Inputs\n",
    "    1. `posture`: `[4, 4]`\n",
    "\n",
    "    ## Outputs\n",
    "    1. `origins`: `[height, width, 3]`\n",
    "    2. `directions`: `[height, width, 3]`\n",
    "    \"\"\"\n",
    "\n",
    "    def __init__(\n",
    "        self,\n",
    "        height: int,\n",
    "        width: int,\n",
    "        focal: float,\n",
    "        device: Device | None = None,\n",
    "    ):\n",
    "        super(RayGenerator, self).__init__()\n",
    "\n",
    "        import torch\n",
    "\n",
    "        focal = float(focal)\n",
    "        height = float(height)\n",
    "        width = float(width)\n",
    "\n",
    "        self.directions = torch.stack(\n",
    "            torch.meshgrid(\n",
    "                (torch.arange(width, device=device) - width / 2) / focal,\n",
    "                -(torch.arange(height, device=device) - height / 2) / focal,\n",
    "                torch.tensor(-1.0, device=device),\n",
    "                indexing=\"xy\",\n",
    "            ),\n",
    "            dim=-1,\n",
    "        ).unsqueeze_(-2)\n",
    "\n",
    "    def forward(self, posture: Tensor) -> Tensor:\n",
    "        import torch\n",
    "\n",
    "        posture = torch.as_tensor(posture)[:3]\n",
    "\n",
    "        directions = (self.directions * posture[:, :3]).sum(dim=-1)\n",
    "        origins = posture[:, 3].broadcast_to(directions.shape)\n",
    "        return origins, directions"
   ]
  },
  {
   "cell_type": "markdown",
   "metadata": {},
   "source": [
    "----\n",
    "#### Stratified Point Sampling"
   ]
  },
  {
   "cell_type": "code",
   "execution_count": 34,
   "metadata": {},
   "outputs": [],
   "source": [
    "from torch import Tensor\n",
    "from torch.nn import Module\n",
    "\n",
    "\n",
    "class StratifiedPointSampler(Module):\n",
    "    \"\"\"\n",
    "    ## Arguments\n",
    "    - `points_per_ray`: `int`\n",
    "\n",
    "    ## Inputs\n",
    "    1. `origins`: `[..., 1, 3]`\n",
    "    2. `directions`: `[..., 1, 3]`\n",
    "\n",
    "    ## Outputs\n",
    "    1. `points`: `[..., points_per_ray, 3]`\n",
    "    2. `intervals`: `[..., points_per_ray]` (Ended with `1e9`)\n",
    "    \"\"\"\n",
    "\n",
    "    def __init__(self, points_per_ray: int | None = None, seed: int | None = None):\n",
    "        super(StratifiedPointSampler, self).__init__()\n",
    "\n",
    "        from torch import Generator\n",
    "\n",
    "        points_per_ray = int(points_per_ray or 32)\n",
    "        if seed is not None:\n",
    "            seed = int(seed)\n",
    "\n",
    "        self.generator: Generator = seed\n",
    "        self.points_per_ray = points_per_ray\n",
    "\n",
    "    def forward(self, origins: Tensor, directions: Tensor) -> Tensor:\n",
    "        import torch\n",
    "\n",
    "        origins = torch.as_tensor(origins)\n",
    "        directions = torch.as_tensor(directions)\n",
    "\n",
    "        device = origins.device\n",
    "        if type(self.generator) is int:\n",
    "            self.generator = torch.Generator(device).manual_seed(self.generator)\n",
    "\n",
    "        distances = (\n",
    "            torch.linspace(2.0, 6.0, self.points_per_ray, device=device)\n",
    "            .repeat(*origins.shape[:-2], 1)\n",
    "            .add_(\n",
    "                torch.rand(\n",
    "                    *origins.shape[:-2],\n",
    "                    self.points_per_ray,\n",
    "                    device=device,\n",
    "                    generator=self.generator,\n",
    "                ).mul_(4.0 / self.points_per_ray)\n",
    "            )\n",
    "        )\n",
    "        intervals = torch.concat(\n",
    "            [\n",
    "                distances[..., 1:] - distances[..., :-1],\n",
    "                torch.tensor(1e9, device=device).repeat(\n",
    "                    (*origins.shape[:-2], 1),\n",
    "                ),\n",
    "            ],\n",
    "            dim=-1,\n",
    "        )\n",
    "        points = origins + directions * distances.unsqueeze_(-1)\n",
    "        return points, intervals"
   ]
  },
  {
   "cell_type": "markdown",
   "metadata": {},
   "source": [
    "----\n",
    "#### Volume Rendering"
   ]
  },
  {
   "cell_type": "code",
   "execution_count": 35,
   "metadata": {},
   "outputs": [],
   "source": [
    "from torch import Tensor\n",
    "from torch.nn import Module\n",
    "\n",
    "\n",
    "class VolumeRenderer(Module):\n",
    "    \"\"\"\n",
    "    ## Inputs\n",
    "    1. `colors` + `densities`: `[..., points_per_ray, 3 + 1]`\n",
    "    2. `intervals`: `[..., points_per_ray]`\n",
    "\n",
    "    ## Outputs\n",
    "    1. `rendered_colors`: `[..., 3]`\n",
    "    \"\"\"\n",
    "\n",
    "    def forward(self, inputs: Tensor, intervals: Tensor) -> Tensor:\n",
    "        import torch\n",
    "\n",
    "        inputs = torch.as_tensor(inputs)\n",
    "\n",
    "        colors = inputs[..., :3]\n",
    "        densities = inputs[..., 3]\n",
    "        translucency = (-densities * intervals).exp()\n",
    "        transmittance = (1.0 - translucency) * torch.cumprod(translucency, dim=-1)\n",
    "        rendered_colors = (transmittance.unsqueeze(-1) * colors).sum(dim=-2)\n",
    "        return rendered_colors"
   ]
  },
  {
   "cell_type": "markdown",
   "metadata": {},
   "source": [
    "----\n",
    "#### Loss Function"
   ]
  },
  {
   "cell_type": "code",
   "execution_count": 36,
   "metadata": {},
   "outputs": [],
   "source": [
    "from torch import Tensor\n",
    "\n",
    "\n",
    "class MSELossFunction:\n",
    "    def __call__(\n",
    "        self,\n",
    "        rendered_color: Tensor,\n",
    "        target_color: Tensor,\n",
    "    ) -> Tensor:\n",
    "        from torch import as_tensor\n",
    "\n",
    "        rendered_color = as_tensor(rendered_color)\n",
    "        target_color = as_tensor(target_color)\n",
    "\n",
    "        loss = (rendered_color - target_color).square().mean()\n",
    "        return loss"
   ]
  },
  {
   "cell_type": "markdown",
   "metadata": {},
   "source": [
    "----\n",
    "#### Data Loader"
   ]
  },
  {
   "cell_type": "code",
   "execution_count": 37,
   "metadata": {},
   "outputs": [],
   "source": [
    "from torch import Tensor\n",
    "from torch.nn import Module\n",
    "from typing import Iterator\n",
    "\n",
    "\n",
    "class DataLoader(Module):\n",
    "    def __init__(self, batch_size: int | None = None):\n",
    "        super(DataLoader, self).__init__()\n",
    "\n",
    "        batch_size = int(batch_size or 1)\n",
    "\n",
    "        self.batch_size = batch_size\n",
    "\n",
    "    def forward(self, inputs: Tensor) -> Iterator[Tensor]:\n",
    "        from torch.utils.data import DataLoader as _DataLoader\n",
    "\n",
    "        return iter(_DataLoader(inputs, batch_size=self.batch_size))"
   ]
  },
  {
   "cell_type": "markdown",
   "metadata": {},
   "source": [
    "----\n",
    "#### Dataset"
   ]
  },
  {
   "cell_type": "code",
   "execution_count": 38,
   "metadata": {},
   "outputs": [],
   "source": [
    "from dataclasses import dataclass\n",
    "from torch import Tensor\n",
    "from torch.types import Device\n",
    "\n",
    "\n",
    "@dataclass\n",
    "class ViewSynthesisDataset:\n",
    "    count: int\n",
    "    focal: float\n",
    "    height: int\n",
    "    images: Tensor\n",
    "    postures: Tensor\n",
    "    width: int\n",
    "\n",
    "    def __post_init__(self) -> None:\n",
    "        if self.images.shape[0] != self.postures.shape[0]:\n",
    "            raise ValueError(\"The number of images and postures must be the same\")\n",
    "\n",
    "    @staticmethod\n",
    "    def from_numpy(url: str) -> \"ViewSynthesisDataset\":\n",
    "        from httpx import get\n",
    "        from io import BytesIO\n",
    "        from numpy import load\n",
    "\n",
    "        import torch\n",
    "\n",
    "        try:\n",
    "            file = BytesIO(\n",
    "                get(url, follow_redirects=True, timeout=60).raise_for_status().content\n",
    "            )\n",
    "        except:\n",
    "            file = open(url, \"rb\")\n",
    "\n",
    "        with file as file_entered:\n",
    "            arrays = load(file_entered)\n",
    "            focal = float(arrays[\"focal\"])\n",
    "            images = torch.as_tensor(arrays[\"images\"])\n",
    "            postures = torch.as_tensor(arrays[\"poses\"])\n",
    "\n",
    "        return ViewSynthesisDataset(\n",
    "            count=images.shape[0],\n",
    "            focal=focal,\n",
    "            height=images.shape[1],\n",
    "            images=images,\n",
    "            postures=postures,\n",
    "            width=images.shape[2],\n",
    "        )\n",
    "\n",
    "    def get_image_and_posture(self, index: int | None = None) -> tuple[Tensor, Tensor]:\n",
    "        from random import randint\n",
    "\n",
    "        if index is not None:\n",
    "            index = int(index)\n",
    "        else:\n",
    "            index = randint(0, self.count - 1)\n",
    "\n",
    "        return self.images[index], self.postures[index]\n",
    "\n",
    "    def set_device(self, device: Device) -> \"ViewSynthesisDataset\":\n",
    "        self.images = self.images.to(device)\n",
    "        self.postures = self.postures.to(device)\n",
    "        return self\n",
    "\n",
    "    def __repr__(self) -> str:\n",
    "        repr = f\"{self.__class__.__name__}(\"\n",
    "        for name, value in self.__dict__.items():\n",
    "            if isinstance(value, Tensor):\n",
    "                value = f\"Tensor(shape={tuple(value.shape)}, dtype={value.dtype})\"\n",
    "            elif type(value) is float:\n",
    "                value = f\"{value:.7f}\"\n",
    "            repr += f\"\\n  {name}={value},\"\n",
    "        repr += \"\\n)\"\n",
    "        return repr"
   ]
  },
  {
   "cell_type": "markdown",
   "metadata": {},
   "source": [
    "----\n",
    "#### NeRF Model"
   ]
  },
  {
   "cell_type": "code",
   "execution_count": 39,
   "metadata": {},
   "outputs": [],
   "source": [
    "from torch import Tensor\n",
    "from torch.nn import Module\n",
    "from torch.types import Device\n",
    "\n",
    "\n",
    "def display_image(image: Tensor):\n",
    "    from IPython.display import display\n",
    "    from PIL import Image\n",
    "    from torch import uint8\n",
    "\n",
    "    return display(Image.fromarray((image * 255).round().type(uint8).numpy()))\n",
    "\n",
    "\n",
    "class NeRF(Module):\n",
    "    \"\"\"\n",
    "    ## Arguments\n",
    "    - `focal`: `float`\n",
    "    - `height`: `int`\n",
    "    - `width`: `int`\n",
    "\n",
    "    ## Inputs\n",
    "    1. `posture`: `[4, 4]`\n",
    "\n",
    "    ## Outputs\n",
    "    1. `rendered_image`: `[height, width, 3]`\n",
    "    \"\"\"\n",
    "\n",
    "    def __init__(\n",
    "        self,\n",
    "        focal: float,\n",
    "        height: int,\n",
    "        width: int,\n",
    "        points_per_ray: int | None = None,\n",
    "        rays_per_batch: int | None = None,\n",
    "        device: Device | None = None,\n",
    "        seed: int | None = None,\n",
    "    ):\n",
    "        from random import seed as set_seed\n",
    "\n",
    "        super(NeRF, self).__init__()\n",
    "\n",
    "        points_per_ray = int(points_per_ray or 32)\n",
    "        rays_per_batch = int(rays_per_batch or 1024)\n",
    "        if seed is not None:\n",
    "            seed = int(seed)\n",
    "            set_seed(seed)\n",
    "\n",
    "        points_per_batch = points_per_ray * rays_per_batch\n",
    "\n",
    "        self.generate_rays = RayGenerator(\n",
    "            focal=focal,\n",
    "            height=height,\n",
    "            width=width,\n",
    "            device=device,\n",
    "        )\n",
    "        self.sample = StratifiedPointSampler(\n",
    "            points_per_ray=points_per_ray,\n",
    "            seed=seed,\n",
    "        )\n",
    "        self.load_batches = DataLoader(\n",
    "            batch_size=points_per_batch,\n",
    "        )\n",
    "        self.predict = MLP(\n",
    "            layer_count=12,\n",
    "            hidden_dim=256,\n",
    "            additional_hidden_dim=128,\n",
    "            position_encoder=PositionalEncoder(10, device=device),\n",
    "            direction_encoder=PositionalEncoder(4, device=device),\n",
    "            device=device,\n",
    "        )\n",
    "        self.render = VolumeRenderer()\n",
    "\n",
    "    def forward(self, posture: Tensor) -> Tensor:\n",
    "        import torch\n",
    "\n",
    "        origins: Tensor\n",
    "        directions: Tensor\n",
    "        positions: Tensor\n",
    "        intervals: Tensor\n",
    "\n",
    "        origins, directions = self.generate_rays(posture)\n",
    "        positions, intervals = self.sample(origins, directions)\n",
    "        positions_and_directions = torch.concat(\n",
    "            [\n",
    "                positions,\n",
    "                directions.broadcast_to(positions.shape),\n",
    "            ],\n",
    "            dim=-1,\n",
    "        ).reshape(\n",
    "            (-1, 6),\n",
    "        )\n",
    "        colors_and_densities = torch.concat(\n",
    "            [\n",
    "                self.predict(batch)\n",
    "                for batch in self.load_batches(positions_and_directions)\n",
    "            ],\n",
    "            dim=0,\n",
    "        ).reshape(\n",
    "            (*positions.shape[:-1], 4),\n",
    "        )\n",
    "        rendered_image = self.render(colors_and_densities, intervals)\n",
    "        # display(\n",
    "        #     dict(\n",
    "        #         origins=origins[0, 0],\n",
    "        #         directions=directions[0, 0],\n",
    "        #         positions=positions[0, 0, 0],\n",
    "        #         intervals=intervals[0, 0],\n",
    "        #         colors_densities=colors_and_densities[0, 0],\n",
    "        #         rendered_image=rendered_image[0, 0],\n",
    "        #     )\n",
    "        # )\n",
    "\n",
    "        return rendered_image\n",
    "\n",
    "    @staticmethod\n",
    "    def fit(\n",
    "        dataset: ViewSynthesisDataset,\n",
    "        epochs: int | None = None,\n",
    "        learning_rate: float | None = None,\n",
    "        show_progress: bool | None = None,\n",
    "        *,\n",
    "        points_per_ray: int | None = None,\n",
    "        rays_per_batch: int | None = None,\n",
    "        device: Device | None = None,\n",
    "        seed: int | None = None,\n",
    "    ) -> \"NeRF\":\n",
    "        import torch\n",
    "        from tqdm import tqdm\n",
    "\n",
    "        EPOCHS_PER_DEMO = 50\n",
    "\n",
    "        dataset.set_device(device)\n",
    "        epochs = int(epochs or 1)\n",
    "        if show_progress is None:\n",
    "            show_progress = True\n",
    "\n",
    "        if show_progress:\n",
    "            display_image(dataset.get_image_and_posture(-1)[0])\n",
    "\n",
    "        def weight_initialize(module: Module):\n",
    "            if type(module) is torch.nn.Linear:\n",
    "                with torch.no_grad():\n",
    "                    module.weight.fill_(1e-7)\n",
    "                    module.bias.zero_()\n",
    "\n",
    "        model = NeRF(\n",
    "            focal=dataset.focal,\n",
    "            height=dataset.height,\n",
    "            width=dataset.width,\n",
    "            points_per_ray=points_per_ray,\n",
    "            rays_per_batch=rays_per_batch,\n",
    "            device=device,\n",
    "            seed=seed,\n",
    "        ).apply(\n",
    "            weight_initialize,\n",
    "        )\n",
    "        calculate_loss = MSELossFunction()\n",
    "        update_weight = AdamWeightUpdater(\n",
    "            parameters=model.parameters(),\n",
    "            learning_rate=learning_rate,\n",
    "        )\n",
    "        progress = tqdm(\n",
    "            disable=not show_progress,\n",
    "            desc=f\"Fitting NeRF model to {dataset.count}x images and postures\",\n",
    "            ascii=\"         |\",\n",
    "            colour=\"blue\",\n",
    "            dynamic_ncols=True,\n",
    "            total=epochs,\n",
    "        )\n",
    "\n",
    "        with progress:\n",
    "            for epoch in range(epochs):\n",
    "                image, posture = dataset.get_image_and_posture()\n",
    "                rendered_image: Tensor = model(posture)\n",
    "                loss = calculate_loss(rendered_image, image)\n",
    "                update_weight(loss)\n",
    "\n",
    "                if show_progress and epoch % EPOCHS_PER_DEMO == 0:\n",
    "                    with torch.no_grad():\n",
    "                        posture_demo = dataset.get_image_and_posture(-1)[1]\n",
    "                        rendered_image_demo = model(posture_demo)\n",
    "                        display_image(rendered_image_demo)\n",
    "                        display(f\"{rendered_image_demo.max().item():.4f}\")\n",
    "\n",
    "                progress.update()\n",
    "\n",
    "        return model"
   ]
  },
  {
   "cell_type": "markdown",
   "metadata": {},
   "source": [
    "----\n",
    "#### Training"
   ]
  },
  {
   "cell_type": "code",
   "execution_count": 40,
   "metadata": {},
   "outputs": [],
   "source": [
    "# original_dataset = ViewSynthesisDataset.from_numpy(\"http://cseweb.ucsd.edu/~viscomp/projects/LF/papers/ECCV20/nerf/tiny_nerf_data.npz\")\n",
    "original_dataset = ViewSynthesisDataset.from_numpy(\"https://raw.githubusercontent.com/AsherJingkongChen/nerf/main/tiny_nerf_data.npz\")"
   ]
  },
  {
   "cell_type": "code",
   "execution_count": 41,
   "metadata": {},
   "outputs": [
    {
     "data": {
      "text/plain": [
       "(ViewSynthesisDataset(\n",
       "   count=85,\n",
       "   focal=138.8888789,\n",
       "   height=100,\n",
       "   images=Tensor(shape=(85, 100, 100, 3), dtype=torch.float32),\n",
       "   postures=Tensor(shape=(85, 4, 4), dtype=torch.float32),\n",
       "   width=100,\n",
       " ),\n",
       " ViewSynthesisDataset(\n",
       "   count=21,\n",
       "   focal=138.8888789,\n",
       "   height=100,\n",
       "   images=Tensor(shape=(21, 100, 100, 3), dtype=torch.float32),\n",
       "   postures=Tensor(shape=(21, 4, 4), dtype=torch.float32),\n",
       "   width=100,\n",
       " ))"
      ]
     },
     "execution_count": 41,
     "metadata": {},
     "output_type": "execute_result"
    }
   ],
   "source": [
    "test_data_count = original_dataset.count // 5\n",
    "test_dataset = ViewSynthesisDataset(\n",
    "    count=test_data_count,\n",
    "    focal=original_dataset.focal,\n",
    "    height=original_dataset.height,\n",
    "    images=original_dataset.images[-test_data_count:],\n",
    "    postures=original_dataset.postures[-test_data_count:],\n",
    "    width=original_dataset.width,\n",
    ")\n",
    "train_dataset = ViewSynthesisDataset(\n",
    "    count=original_dataset.count - test_data_count,\n",
    "    focal=original_dataset.focal,\n",
    "    height=original_dataset.height,\n",
    "    images=original_dataset.images[:-test_data_count],\n",
    "    postures=original_dataset.postures[:-test_data_count],\n",
    "    width=original_dataset.width,\n",
    ")\n",
    "train_dataset, test_dataset"
   ]
  },
  {
   "cell_type": "code",
   "execution_count": 42,
   "metadata": {},
   "outputs": [
    {
     "data": {
      "image/jpeg": "[encoded data removed]",
      "image/png": "[encoded data removed]",
      "text/plain": [
       "<PIL.Image.Image image mode=RGB size=100x100>"
      ]
     },
     "metadata": {},
     "output_type": "display_data"
    },
    {
     "name": "stderr",
     "output_type": "stream",
     "text": [
      "Fitting NeRF model to 85x images and postures:   0%|\u001b[34m          \u001b[0m| 0/1000 [00:00<?, ?it/s]"
     ]
    },
    {
     "data": {
      "image/jpeg": "[encoded data removed]",
      "image/png": "[encoded data removed]",
      "text/plain": [
       "<PIL.Image.Image image mode=RGB size=100x100>"
      ]
     },
     "metadata": {},
     "output_type": "display_data"
    },
    {
     "data": {
      "text/plain": [
       "'0.0010'"
      ]
     },
     "metadata": {},
     "output_type": "display_data"
    },
    {
     "name": "stderr",
     "output_type": "stream",
     "text": [
      "Fitting NeRF model to 85x images and postures:   1%|\u001b[34m          \u001b[0m| 12/1000 [01:53<2:35:33,  9.45s/it]"
     ]
    }
   ],
   "source": [
    "model = NeRF.fit(\n",
    "    dataset=train_dataset,\n",
    "    device=\"cpu\",\n",
    "    epochs=1000,\n",
    "    rays_per_batch=500,\n",
    "    points_per_ray=60,\n",
    "    seed=1,\n",
    ")"
   ]
  },
  {
   "cell_type": "markdown",
   "metadata": {},
   "source": [
    "----\n",
    "#### Validation"
   ]
  },
  {
   "cell_type": "code",
   "execution_count": null,
   "metadata": {},
   "outputs": [
    {
     "data": {
      "text/plain": [
       "(tensor([[-1.5836,  1.0135,  1.0806,  0.9657, -0.0426, -0.2506,  0.2597, -0.9991,\n",
       "          -0.9681,  0.5015,  0.0850,  0.4852, -0.8652,  0.9964,  0.8744, -0.8677,\n",
       "           0.1694,  0.8486,  0.4970,  0.9855,  0.5291, -0.8626,  0.3340,  0.8979,\n",
       "          -0.5060,  0.9426, -0.4401,  0.8729,  0.6296, -0.7904, -0.4880,  0.7769,\n",
       "          -0.6126, -0.8519,  0.9783,  0.9684, -0.5237,  0.2072, -0.2494,  0.8923,\n",
       "           0.4053, -0.4831, -0.4514, -0.9142, -0.8756, -0.8056, -0.7411,  0.8460,\n",
       "          -0.5925,  0.6714,  0.5332,  0.9546, -0.9951,  0.9022, -0.2979, -0.0985,\n",
       "          -0.4313, -0.5688,  0.1960, -0.7783, -0.8225, -0.9806, -0.6279],\n",
       "         [-1.0057,  1.1241,  1.1803,  0.0180, -0.3802, -0.5366, -0.9998, -0.9249,\n",
       "          -0.8439, -0.0361,  0.7032,  0.9056,  0.9993,  0.7110,  0.4242, -0.0721,\n",
       "           0.9999,  0.7683,  0.9974,  0.0109, -0.6401, -0.1438,  0.0219, -0.9836,\n",
       "           0.9896, -0.9998, -0.1806, -0.2846, -0.0437,  0.3552,  0.9586,  0.9990,\n",
       "          -0.9348, -0.5457, -0.0874, -0.6641,  0.8380,  0.9962,  0.7476, -0.9146,\n",
       "          -0.1741, -0.9930,  0.4044,  0.9847,  0.1179, -0.7397, -0.3429, -0.2341,\n",
       "          -0.6729,  0.9394, -0.9722,  0.9955, -0.6443,  0.4552, -0.0944,  0.7648,\n",
       "           0.8904, -0.1879, -0.9855,  0.8106, -0.9822,  0.1698,  0.5856]]),\n",
       " tensor([[-1.5836,  1.0135,  1.0806,  0.9657, -0.0426, -0.2506,  0.2597, -0.9991,\n",
       "          -0.9681,  0.5015,  0.0850,  0.4852, -0.8652,  0.9964,  0.8744, -0.8677,\n",
       "           0.1694,  0.8486,  0.4970,  0.9855,  0.5291, -0.8626,  0.3340,  0.8979,\n",
       "          -0.5060,  0.9426, -0.4401,  0.8729,  0.6296, -0.7904, -0.4880,  0.7769,\n",
       "          -0.6126, -0.8519,  0.9783,  0.9684, -0.5237,  0.2072, -0.2494,  0.8923,\n",
       "           0.4053, -0.4831, -0.4514, -0.9142, -0.8756, -0.8056, -0.7411,  0.8460,\n",
       "          -0.5925,  0.6714,  0.5332,  0.9546, -0.9951,  0.9022, -0.2979, -0.0985,\n",
       "          -0.4313, -0.5688,  0.1960, -0.7783, -0.8225, -0.9806, -0.6279],\n",
       "         [-1.0057,  1.1241,  1.1803,  0.0180, -0.3802, -0.5366, -0.9998, -0.9249,\n",
       "          -0.8439, -0.0361,  0.7032,  0.9056,  0.9993,  0.7110,  0.4242, -0.0721,\n",
       "           0.9999,  0.7683,  0.9974,  0.0109, -0.6401, -0.1438,  0.0219, -0.9836,\n",
       "           0.9896, -0.9998, -0.1806, -0.2846, -0.0437,  0.3552,  0.9586,  0.9990,\n",
       "          -0.9348, -0.5457, -0.0874, -0.6641,  0.8380,  0.9962,  0.7476, -0.9146,\n",
       "          -0.1741, -0.9930,  0.4044,  0.9847,  0.1179, -0.7397, -0.3429, -0.2341,\n",
       "          -0.6729,  0.9394, -0.9722,  0.9955, -0.6443,  0.4552, -0.0944,  0.7648,\n",
       "           0.8904, -0.1879, -0.9855,  0.8106, -0.9822,  0.1698,  0.5856]]))"
      ]
     },
     "metadata": {},
     "output_type": "display_data"
    },
    {
     "data": {
      "text/plain": [
       "(0, 16.147069931030273)"
      ]
     },
     "metadata": {},
     "output_type": "display_data"
    },
    {
     "data": {
      "image/jpeg": "[encoded data removed]",
      "image/png": "[encoded data removed]",
      "text/plain": [
       "<PIL.Image.Image image mode=RGB size=100x100>"
      ]
     },
     "metadata": {},
     "output_type": "display_data"
    },
    {
     "data": {
      "image/jpeg": "[encoded data removed]",
      "image/png": "[encoded data removed]",
      "text/plain": [
       "<PIL.Image.Image image mode=RGB size=100x100>"
      ]
     },
     "metadata": {},
     "output_type": "display_data"
    },
    {
     "data": {
      "text/plain": [
       "(tensor([[-0.2737, -0.7554,  2.2168, -0.7577, -0.6951,  0.6296,  0.6526, -0.7189,\n",
       "           0.7770, -0.9890,  0.9994,  0.9783, -0.1482,  0.0337,  0.2073,  0.2931,\n",
       "           0.0673,  0.4056, -0.9561, -0.9977, -0.9140, -0.5604, -0.1343, -0.7415,\n",
       "           0.8282,  0.9909,  0.6710, -0.9283, -0.2661, -0.9950,  0.3719,  0.9639,\n",
       "          -0.0996, -0.6905, -0.5131,  0.1982, -0.7233,  0.8583, -0.9802,  0.9989,\n",
       "          -0.8808, -0.3886,  0.0464,  0.4735,  0.9214,  0.0927, -0.8341, -0.7161,\n",
       "          -0.9957, -0.5516,  0.6980, -0.1846,  0.9202, -0.9997,  0.9828, -0.3915,\n",
       "          -0.0256, -0.3629, -0.7204,  0.0511,  0.9318, -0.6935, -0.9987],\n",
       "         [-0.7447, -0.5012,  1.7825, -0.7187, -1.0000, -0.6313, -0.6953, -0.0038,\n",
       "           0.7755,  0.9995,  0.0077, -0.9792, -0.0331, -1.0000,  0.2029, -0.0662,\n",
       "          -0.0153, -0.3973, -0.9978,  0.9999, -0.9177,  0.1321, -0.0307,  0.7292,\n",
       "           0.9912,  0.9995,  0.6843,  0.2620, -0.0613,  0.9980,  0.9651,  0.9981,\n",
       "          -0.0636,  0.5056, -0.1223, -0.1269,  0.8627,  0.9925, -0.9919,  0.8725,\n",
       "          -0.2428,  0.2517,  0.4886,  0.9701,  0.9678,  0.8527, -0.4711,  0.4872,\n",
       "          -0.5224,  0.8821,  0.8733, -0.8910, -0.8311,  0.8510, -0.4541,  0.5561,\n",
       "           0.5252,  0.8092, -0.9244,  0.8939, -0.5876, -0.3815, -0.4484]]),\n",
       " tensor([[-0.2737, -0.7554,  2.2168, -0.7577, -0.6951,  0.6296,  0.6526, -0.7189,\n",
       "           0.7770, -0.9890,  0.9994,  0.9783, -0.1482,  0.0337,  0.2073,  0.2931,\n",
       "           0.0673,  0.4056, -0.9561, -0.9977, -0.9140, -0.5604, -0.1343, -0.7415,\n",
       "           0.8282,  0.9909,  0.6710, -0.9283, -0.2661, -0.9950,  0.3719,  0.9639,\n",
       "          -0.0996, -0.6905, -0.5131,  0.1982, -0.7233,  0.8583, -0.9802,  0.9989,\n",
       "          -0.8808, -0.3886,  0.0464,  0.4735,  0.9214,  0.0927, -0.8341, -0.7161,\n",
       "          -0.9957, -0.5516,  0.6980, -0.1846,  0.9202, -0.9997,  0.9828, -0.3914,\n",
       "          -0.0256, -0.3629, -0.7204,  0.0511,  0.9318, -0.6935, -0.9987],\n",
       "         [-0.7447, -0.5012,  1.7825, -0.7187, -1.0000, -0.6313, -0.6953, -0.0038,\n",
       "           0.7755,  0.9995,  0.0077, -0.9792, -0.0331, -1.0000,  0.2029, -0.0662,\n",
       "          -0.0153, -0.3973, -0.9978,  0.9999, -0.9177,  0.1321, -0.0307,  0.7292,\n",
       "           0.9912,  0.9995,  0.6843,  0.2620, -0.0613,  0.9980,  0.9651,  0.9981,\n",
       "          -0.0636,  0.5056, -0.1223, -0.1269,  0.8627,  0.9925, -0.9919,  0.8725,\n",
       "          -0.2428,  0.2517,  0.4886,  0.9701,  0.9678,  0.8527, -0.4711,  0.4872,\n",
       "          -0.5224,  0.8821,  0.8733, -0.8910, -0.8311,  0.8510, -0.4541,  0.5561,\n",
       "           0.5252,  0.8092, -0.9244,  0.8939, -0.5876, -0.3815, -0.4483]]))"
      ]
     },
     "metadata": {},
     "output_type": "display_data"
    },
    {
     "data": {
      "text/plain": [
       "(1, 8.403759956359863)"
      ]
     },
     "metadata": {},
     "output_type": "display_data"
    },
    {
     "data": {
      "image/jpeg": "[encoded data removed]",
      "image/png": "[encoded data removed]",
      "text/plain": [
       "<PIL.Image.Image image mode=RGB size=100x100>"
      ]
     },
     "metadata": {},
     "output_type": "display_data"
    },
    {
     "data": {
      "image/jpeg": "[encoded data removed]",
      "image/png": "[encoded data removed]",
      "text/plain": [
       "<PIL.Image.Image image mode=RGB size=100x100>"
      ]
     },
     "metadata": {},
     "output_type": "display_data"
    },
    {
     "data": {
      "text/plain": [
       "(tensor([[-9.3759e-01,  2.5879e-01,  2.2057e+00, -1.9482e-01,  7.2637e-01,\n",
       "           6.0210e-01, -9.8084e-01,  6.8730e-01,  7.9842e-01,  3.8218e-01,\n",
       "           9.9847e-01,  9.6146e-01,  9.2409e-01, -5.5230e-02,  2.7496e-01,\n",
       "           7.0633e-01, -1.1029e-01,  5.2872e-01,  7.0788e-01, -9.9390e-01,\n",
       "          -8.4880e-01,  1.0000e+00,  2.1924e-01, -8.9755e-01,  2.1986e-03,\n",
       "           9.7567e-01,  4.4091e-01,  4.3985e-03,  4.2780e-01, -7.9148e-01,\n",
       "          -9.9999e-01,  9.0387e-01, -6.1120e-01, -8.7968e-03,  7.7336e-01,\n",
       "           9.6750e-01,  9.9996e-01,  6.3397e-01, -2.5288e-01, -1.7593e-02,\n",
       "           9.8057e-01, -4.8931e-01,  9.9985e-01, -1.9617e-01, -8.7211e-01,\n",
       "          -3.5180e-02, -3.8472e-01,  8.5346e-01,  9.9938e-01, -9.2303e-01,\n",
       "           5.2115e-01, -7.0317e-02,  7.1023e-01,  8.8957e-01,  9.9752e-01,\n",
       "           7.0397e-01, -4.5680e-01, -1.4029e-01,  9.9996e-01, -8.1270e-01,\n",
       "           9.9011e-01, -8.8447e-03, -5.8267e-01],\n",
       "         [-4.4770e-01,  8.2360e-01,  1.7083e+00, -9.8653e-01,  5.2626e-01,\n",
       "          -7.9338e-01,  1.6356e-01, -8.5033e-01,  6.0872e-01, -3.2271e-01,\n",
       "          -8.9498e-01, -9.6590e-01, -9.4650e-01,  4.4611e-01, -2.5891e-01,\n",
       "           6.1089e-01, -7.9852e-01,  5.0017e-01,  7.9172e-01, -6.0197e-01,\n",
       "          -8.6593e-01,  9.6730e-01,  9.6137e-01, -8.6622e-01,  2.5363e-01,\n",
       "          -2.7526e-01,  4.9966e-01,  4.9067e-01, -5.2924e-01, -8.6563e-01,\n",
       "          -8.7135e-01, -8.4847e-01, -5.0068e-01, -8.5509e-01,  8.9810e-01,\n",
       "           8.6681e-01,  5.1849e-01,  4.3980e-01, -4.9865e-01, -8.8670e-01,\n",
       "           7.8997e-01, -8.6445e-01, -4.6235e-01, -6.1316e-01, -5.0271e-01,\n",
       "           8.1992e-01, -9.6874e-01,  8.6914e-01, -5.7248e-01, -2.4809e-01,\n",
       "          -4.9456e-01, -9.3877e-01,  4.8067e-01, -8.5969e-01, -3.4455e-01,\n",
       "          -8.7690e-01, -5.1082e-01,  6.4690e-01, -8.4300e-01,  8.7829e-01,\n",
       "          -7.6257e-01,  5.3792e-01, -4.7812e-01]]),\n",
       " tensor([[-9.3759e-01,  2.5879e-01,  2.2057e+00, -1.9482e-01,  7.2637e-01,\n",
       "           6.0210e-01, -9.8084e-01,  6.8730e-01,  7.9842e-01,  3.8218e-01,\n",
       "           9.9847e-01,  9.6146e-01,  9.2409e-01, -5.5230e-02,  2.7496e-01,\n",
       "           7.0633e-01, -1.1029e-01,  5.2872e-01,  7.0788e-01, -9.9390e-01,\n",
       "          -8.4880e-01,  1.0000e+00,  2.1924e-01, -8.9755e-01,  2.1992e-03,\n",
       "           9.7567e-01,  4.4091e-01,  4.3985e-03,  4.2780e-01, -7.9148e-01,\n",
       "          -9.9999e-01,  9.0387e-01, -6.1120e-01, -8.7968e-03,  7.7336e-01,\n",
       "           9.6750e-01,  9.9996e-01,  6.3397e-01, -2.5287e-01, -1.7593e-02,\n",
       "           9.8057e-01, -4.8931e-01,  9.9985e-01, -1.9617e-01, -8.7211e-01,\n",
       "          -3.5180e-02, -3.8472e-01,  8.5346e-01,  9.9938e-01, -9.2303e-01,\n",
       "           5.2115e-01, -7.0317e-02,  7.1023e-01,  8.8957e-01,  9.9752e-01,\n",
       "           7.0397e-01, -4.5680e-01, -1.4029e-01,  9.9996e-01, -8.1270e-01,\n",
       "           9.9011e-01, -8.8402e-03, -5.8268e-01],\n",
       "         [-4.4770e-01,  8.2360e-01,  1.7083e+00, -9.8653e-01,  5.2626e-01,\n",
       "          -7.9338e-01,  1.6356e-01, -8.5033e-01,  6.0872e-01, -3.2271e-01,\n",
       "          -8.9498e-01, -9.6590e-01, -9.4650e-01,  4.4611e-01, -2.5891e-01,\n",
       "           6.1089e-01, -7.9852e-01,  5.0017e-01,  7.9172e-01, -6.0197e-01,\n",
       "          -8.6593e-01,  9.6730e-01,  9.6137e-01, -8.6622e-01,  2.5363e-01,\n",
       "          -2.7526e-01,  4.9966e-01,  4.9067e-01, -5.2924e-01, -8.6563e-01,\n",
       "          -8.7135e-01, -8.4847e-01, -5.0068e-01, -8.5509e-01,  8.9810e-01,\n",
       "           8.6681e-01,  5.1849e-01,  4.3980e-01, -4.9864e-01, -8.8670e-01,\n",
       "           7.8997e-01, -8.6445e-01, -4.6235e-01, -6.1315e-01, -5.0271e-01,\n",
       "           8.1992e-01, -9.6874e-01,  8.6914e-01, -5.7247e-01, -2.4809e-01,\n",
       "          -4.9456e-01, -9.3877e-01,  4.8067e-01, -8.5969e-01, -3.4455e-01,\n",
       "          -8.7690e-01, -5.1082e-01,  6.4690e-01, -8.4300e-01,  8.7829e-01,\n",
       "          -7.6257e-01,  5.3792e-01, -4.7812e-01]]))"
      ]
     },
     "metadata": {},
     "output_type": "display_data"
    },
    {
     "data": {
      "text/plain": [
       "(2, 9.927273750305176)"
      ]
     },
     "metadata": {},
     "output_type": "display_data"
    },
    {
     "data": {
      "image/jpeg": "[encoded data removed]",
      "image/png": "[encoded data removed]",
      "text/plain": [
       "<PIL.Image.Image image mode=RGB size=100x100>"
      ]
     },
     "metadata": {},
     "output_type": "display_data"
    },
    {
     "data": {
      "image/jpeg": "[encoded data removed]",
      "image/png": "[encoded data removed]",
      "text/plain": [
       "<PIL.Image.Image image mode=RGB size=100x100>"
      ]
     },
     "metadata": {},
     "output_type": "display_data"
    },
    {
     "data": {
      "text/plain": [
       "(tensor([[ 0.6879, -0.5671,  2.2381,  0.8307, -0.9779,  0.6801, -0.5567, -0.2093,\n",
       "           0.7331, -0.9250,  0.4093,  0.9972, -0.3801, -0.9124,  0.0748,  0.7031,\n",
       "          -0.7469,  0.1492, -0.7111,  0.6649, -0.9888, -0.9999, -0.9933, -0.2951,\n",
       "           0.0112, -0.1158,  0.9555, -0.0225,  0.2300, -0.5639, -0.9997, -0.9732,\n",
       "           0.8258,  0.0449, -0.4476, -0.9314,  0.9990,  0.8942,  0.3640,  0.0897,\n",
       "          -0.8005, -0.6781,  0.9960,  0.5993, -0.7349,  0.1787, -0.9595,  0.9968,\n",
       "           0.9839, -0.2817,  0.0803,  0.3517,  0.5406,  0.1601,  0.9361, -0.8413,\n",
       "          -0.9871,  0.6584, -0.9096, -0.3161,  0.7527,  0.4155,  0.9487],\n",
       "         [ 1.0384, -0.8893,  1.3310, -0.1203, -0.3409, -0.8623, -0.9927, -0.9401,\n",
       "          -0.5064,  0.2389,  0.6410,  0.8733,  0.9710,  0.7676, -0.4871,  0.4640,\n",
       "           0.9840, -0.8509,  0.8858,  0.1783, -0.5254,  0.8221,  0.3508,  0.8941,\n",
       "           0.5694, -0.9364, -0.4480,  0.9362, -0.6571, -0.8010, -0.3516,  0.7538,\n",
       "          -0.5987, -0.6582, -0.9906,  0.9591, -0.7528,  0.1365, -0.2832,  0.9911,\n",
       "          -0.2704, -0.5433,  0.1335, -0.9627, -0.8396,  0.2646,  0.5207,  0.9122,\n",
       "          -0.9644,  0.8537,  0.4098, -0.5103,  0.8891,  0.7476,  0.8600,  0.4578,\n",
       "          -0.6642, -0.8777,  0.8140, -0.9931,  0.4792, -0.5809, -0.1177]]),\n",
       " tensor([[ 0.6879, -0.5671,  2.2381,  0.8307, -0.9779,  0.6801, -0.5567, -0.2093,\n",
       "           0.7331, -0.9250,  0.4093,  0.9972, -0.3801, -0.9124,  0.0748,  0.7031,\n",
       "          -0.7469,  0.1492, -0.7111,  0.6649, -0.9888, -0.9999, -0.9933, -0.2951,\n",
       "           0.0112, -0.1158,  0.9555, -0.0225,  0.2300, -0.5639, -0.9997, -0.9732,\n",
       "           0.8258,  0.0449, -0.4476, -0.9314,  0.9990,  0.8942,  0.3640,  0.0897,\n",
       "          -0.8005, -0.6781,  0.9960,  0.5993, -0.7350,  0.1787, -0.9595,  0.9968,\n",
       "           0.9839, -0.2817,  0.0803,  0.3517,  0.5406,  0.1601,  0.9361, -0.8413,\n",
       "          -0.9871,  0.6584, -0.9096, -0.3161,  0.7527,  0.4155,  0.9487],\n",
       "         [ 1.0384, -0.8893,  1.3310, -0.1203, -0.3409, -0.8623, -0.9927, -0.9401,\n",
       "          -0.5064,  0.2389,  0.6410,  0.8733,  0.9710,  0.7676, -0.4871,  0.4640,\n",
       "           0.9840, -0.8509,  0.8858,  0.1783, -0.5254,  0.8221,  0.3508,  0.8941,\n",
       "           0.5694, -0.9364, -0.4480,  0.9362, -0.6571, -0.8010, -0.3516,  0.7538,\n",
       "          -0.5987, -0.6582, -0.9906,  0.9591, -0.7528,  0.1365, -0.2832,  0.9911,\n",
       "          -0.2704, -0.5433,  0.1335, -0.9627, -0.8396,  0.2646,  0.5207,  0.9122,\n",
       "          -0.9644,  0.8537,  0.4098, -0.5103,  0.8891,  0.7476,  0.8600,  0.4578,\n",
       "          -0.6642, -0.8777,  0.8140, -0.9931,  0.4792, -0.5809, -0.1177]]))"
      ]
     },
     "metadata": {},
     "output_type": "display_data"
    },
    {
     "data": {
      "text/plain": [
       "(3, 10.564596176147461)"
      ]
     },
     "metadata": {},
     "output_type": "display_data"
    },
    {
     "data": {
      "image/jpeg": "[encoded data removed]",
      "image/png": "[encoded data removed]",
      "text/plain": [
       "<PIL.Image.Image image mode=RGB size=100x100>"
      ]
     },
     "metadata": {},
     "output_type": "display_data"
    },
    {
     "data": {
      "image/jpeg": "[encoded data removed]",
      "image/png": "[encoded data removed]",
      "text/plain": [
       "<PIL.Image.Image image mode=RGB size=100x100>"
      ]
     },
     "metadata": {},
     "output_type": "display_data"
    },
    {
     "data": {
      "text/plain": [
       "(tensor([[-8.3785e-01, -1.9570e+00,  1.0996e+00, -4.8765e-01,  1.3458e-01,\n",
       "          -3.0790e-01, -8.7304e-01,  9.9090e-01, -9.5142e-01,  8.5148e-01,\n",
       "           2.6671e-01,  5.8589e-01,  5.2439e-01,  9.6378e-01,  8.1039e-01,\n",
       "           8.9301e-01,  5.1411e-01,  9.4960e-01, -4.5003e-01,  8.5773e-01,\n",
       "           3.1348e-01, -8.0377e-01,  8.8193e-01,  5.9535e-01, -5.9494e-01,\n",
       "           4.7139e-01, -8.0347e-01,  9.5639e-01,  8.3146e-01, -9.5669e-01,\n",
       "          -2.9208e-01, -5.5558e-01,  2.9111e-01, -5.5869e-01, -9.2389e-01,\n",
       "          -5.5701e-01, -8.2938e-01, -3.8264e-01, -8.3051e-01,  9.2673e-01,\n",
       "           7.0705e-01,  9.2520e-01,  3.7572e-01, -7.0716e-01,  3.7948e-01,\n",
       "           6.9640e-01, -1.0000e+00,  7.0219e-01, -7.1766e-01,  1.5314e-04,\n",
       "          -7.1199e-01, -9.9955e-01, -2.9738e-04, -9.9990e-01,  3.0071e-02,\n",
       "          -1.0000e+00,  1.3864e-02, -6.0107e-02,  5.9476e-04, -2.7717e-02,\n",
       "          -9.9819e-01,  1.0000e+00, -9.9962e-01],\n",
       "         [-1.0664e+00, -1.0156e+00,  1.2257e+00,  2.0695e-01,  4.9116e-02,\n",
       "          -6.5123e-01, -9.7835e-01, -9.9879e-01, -7.5888e-01, -4.0493e-01,\n",
       "          -9.8113e-02,  9.8841e-01,  9.1435e-01,  9.9518e-01,  1.5181e-01,\n",
       "          -7.4050e-01, -1.9528e-01,  3.0010e-01,  6.7206e-01,  9.8075e-01,\n",
       "          -9.5391e-01, -9.9532e-01, -3.8304e-01, -5.7253e-01, -9.6682e-02,\n",
       "           9.2373e-01,  8.1988e-01,  1.9246e-01, -7.0765e-01, -9.3882e-01,\n",
       "          -9.8131e-01,  7.0656e-01,  3.4441e-01, -3.7772e-01, -1.0000e+00,\n",
       "          -6.4668e-01,  9.2592e-01, -1.5363e-03, -7.6276e-01, -6.9948e-01,\n",
       "           3.0663e-03,  9.8653e-01,  7.1466e-01, -1.0000e+00,  1.6360e-01,\n",
       "          -9.9977e-01, -6.1325e-03,  3.2279e-01,  2.1461e-02,  9.9998e-01,\n",
       "          -9.4647e-01, -4.2904e-02, -1.2265e-02, -6.1103e-01, -9.9908e-01,\n",
       "           9.9992e-01,  7.9161e-01,  8.5729e-02, -2.4528e-02, -9.6739e-01,\n",
       "           9.9632e-01,  9.9970e-01,  2.5329e-01]]),\n",
       " tensor([[-8.3785e-01, -1.9570e+00,  1.0996e+00, -4.8765e-01,  1.3458e-01,\n",
       "          -3.0790e-01, -8.7304e-01,  9.9090e-01, -9.5142e-01,  8.5148e-01,\n",
       "           2.6671e-01,  5.8589e-01,  5.2439e-01,  9.6378e-01,  8.1039e-01,\n",
       "           8.9301e-01,  5.1411e-01,  9.4960e-01, -4.5003e-01,  8.5773e-01,\n",
       "           3.1348e-01, -8.0377e-01,  8.8193e-01,  5.9535e-01, -5.9494e-01,\n",
       "           4.7139e-01, -8.0347e-01,  9.5639e-01,  8.3146e-01, -9.5669e-01,\n",
       "          -2.9208e-01, -5.5559e-01,  2.9111e-01, -5.5869e-01, -9.2389e-01,\n",
       "          -5.5701e-01, -8.2938e-01, -3.8265e-01, -8.3051e-01,  9.2673e-01,\n",
       "           7.0705e-01,  9.2520e-01,  3.7573e-01, -7.0716e-01,  3.7948e-01,\n",
       "           6.9640e-01, -1.0000e+00,  7.0219e-01, -7.1766e-01,  1.4869e-04,\n",
       "          -7.1199e-01, -9.9955e-01, -2.9738e-04, -9.9990e-01,  3.0067e-02,\n",
       "          -1.0000e+00,  1.3860e-02, -6.0107e-02,  5.9476e-04, -2.7717e-02,\n",
       "          -9.9819e-01,  1.0000e+00, -9.9962e-01],\n",
       "         [-1.0664e+00, -1.0156e+00,  1.2257e+00,  2.0695e-01,  4.9116e-02,\n",
       "          -6.5123e-01, -9.7835e-01, -9.9879e-01, -7.5888e-01, -4.0493e-01,\n",
       "          -9.8113e-02,  9.8841e-01,  9.1435e-01,  9.9518e-01,  1.5181e-01,\n",
       "          -7.4050e-01, -1.9528e-01,  3.0010e-01,  6.7206e-01,  9.8075e-01,\n",
       "          -9.5391e-01, -9.9532e-01, -3.8304e-01, -5.7253e-01, -9.6682e-02,\n",
       "           9.2373e-01,  8.1988e-01,  1.9246e-01, -7.0765e-01, -9.3882e-01,\n",
       "          -9.8131e-01,  7.0656e-01,  3.4441e-01, -3.7772e-01, -1.0000e+00,\n",
       "          -6.4668e-01,  9.2592e-01, -1.5331e-03, -7.6276e-01, -6.9948e-01,\n",
       "           3.0663e-03,  9.8653e-01,  7.1465e-01, -1.0000e+00,  1.6360e-01,\n",
       "          -9.9977e-01, -6.1325e-03,  3.2279e-01,  2.1457e-02,  9.9998e-01,\n",
       "          -9.4647e-01, -4.2904e-02, -1.2265e-02, -6.1103e-01, -9.9908e-01,\n",
       "           9.9992e-01,  7.9161e-01,  8.5729e-02, -2.4528e-02, -9.6739e-01,\n",
       "           9.9632e-01,  9.9970e-01,  2.5329e-01]]))"
      ]
     },
     "metadata": {},
     "output_type": "display_data"
    },
    {
     "data": {
      "text/plain": [
       "(4, 10.914176940917969)"
      ]
     },
     "metadata": {},
     "output_type": "display_data"
    },
    {
     "data": {
      "image/jpeg": "[encoded data removed]",
      "image/png": "[encoded data removed]",
      "text/plain": [
       "<PIL.Image.Image image mode=RGB size=100x100>"
      ]
     },
     "metadata": {},
     "output_type": "display_data"
    },
    {
     "data": {
      "image/jpeg": "[encoded data removed]",
      "image/png": "[encoded data removed]",
      "text/plain": [
       "<PIL.Image.Image image mode=RGB size=100x100>"
      ]
     },
     "metadata": {},
     "output_type": "display_data"
    },
    {
     "data": {
      "text/plain": [
       "(tensor([[-1.4596,  0.5851,  1.6755,  0.9920,  0.9645, -0.8518, -0.1266, -0.2642,\n",
       "           0.5239, -0.2512, -0.5096, -0.8925, -0.9679, -0.8604, -0.4510,  0.4863,\n",
       "           0.8770,  0.8051,  0.8738,  0.4805, -0.5932,  0.8499,  0.8428, -0.9551,\n",
       "           0.5270, -0.5382, -0.2963,  0.8957, -0.9072,  0.5660, -0.4446, -0.4207,\n",
       "          -0.8244, -0.7965,  0.7633, -0.9333, -0.6047, -0.6461,  0.3592,  0.9632,\n",
       "          -0.9863, -0.6704, -0.2687, -0.1652, -0.7420, -0.5176,  0.3259,  0.9949,\n",
       "          -0.8556, -0.9454,  0.1010,  0.8857, -0.6162,  0.2010,  0.4642,  0.7876,\n",
       "          -0.9796,  0.8223, -0.9706, -0.3938, -0.5691,  0.2406,  0.9192],\n",
       "         [-0.7731,  0.8893,  1.5327, -0.6540,  0.3407, -0.9947, -0.7565, -0.9402,\n",
       "           0.1026,  0.9895, -0.6406, -0.2041,  0.1447,  0.7678, -0.9790,  0.2863,\n",
       "          -0.9838,  0.3996, -0.9581,  0.1792,  0.9167, -0.5486, -0.3526,  0.7326,\n",
       "           0.8361, -0.9358,  0.6806, -0.9174,  0.6599,  0.9973,  0.3980,  0.7514,\n",
       "          -0.0735, -0.7302,  0.9916, -0.1465, -0.6832,  0.1292, -0.9892,  0.9978,\n",
       "           0.2562,  0.2899, -0.0664, -0.9666,  0.9571, -0.1326, -0.4952,  0.5549,\n",
       "          -0.9912,  0.8688,  0.8319,  0.2628, -0.8605,  0.9233,  0.9648,  0.5095,\n",
       "           0.3842,  0.5071, -0.8768,  0.7094,  0.8619, -0.4808, -0.7048]]),\n",
       " tensor([[-1.4596,  0.5851,  1.6755,  0.9920,  0.9645, -0.8518, -0.1266, -0.2642,\n",
       "           0.5239, -0.2512, -0.5096, -0.8925, -0.9679, -0.8604, -0.4510,  0.4863,\n",
       "           0.8770,  0.8051,  0.8738,  0.4805, -0.5932,  0.8499,  0.8428, -0.9551,\n",
       "           0.5270, -0.5382, -0.2963,  0.8957, -0.9072,  0.5660, -0.4446, -0.4207,\n",
       "          -0.8244, -0.7965,  0.7633, -0.9333, -0.6047, -0.6461,  0.3592,  0.9632,\n",
       "          -0.9863, -0.6704, -0.2687, -0.1652, -0.7420, -0.5176,  0.3259,  0.9949,\n",
       "          -0.8556, -0.9454,  0.1010,  0.8857, -0.6162,  0.2010,  0.4642,  0.7876,\n",
       "          -0.9796,  0.8223, -0.9706, -0.3938, -0.5691,  0.2406,  0.9192],\n",
       "         [-0.7731,  0.8893,  1.5327, -0.6540,  0.3407, -0.9947, -0.7565, -0.9402,\n",
       "           0.1026,  0.9895, -0.6406, -0.2041,  0.1447,  0.7678, -0.9790,  0.2863,\n",
       "          -0.9838,  0.3996, -0.9581,  0.1792,  0.9167, -0.5486, -0.3526,  0.7326,\n",
       "           0.8361, -0.9358,  0.6806, -0.9174,  0.6599,  0.9973,  0.3980,  0.7514,\n",
       "          -0.0735, -0.7302,  0.9916, -0.1465, -0.6832,  0.1292, -0.9892,  0.9978,\n",
       "           0.2562,  0.2899, -0.0664, -0.9666,  0.9571, -0.1326, -0.4952,  0.5549,\n",
       "          -0.9912,  0.8688,  0.8319,  0.2628, -0.8605,  0.9233,  0.9648,  0.5095,\n",
       "           0.3842,  0.5071, -0.8768,  0.7094,  0.8619, -0.4808, -0.7048]]))"
      ]
     },
     "metadata": {},
     "output_type": "display_data"
    },
    {
     "data": {
      "text/plain": [
       "(5, 12.060806274414062)"
      ]
     },
     "metadata": {},
     "output_type": "display_data"
    },
    {
     "data": {
      "image/jpeg": "[encoded data removed]",
      "image/png": "[encoded data removed]",
      "text/plain": [
       "<PIL.Image.Image image mode=RGB size=100x100>"
      ]
     },
     "metadata": {},
     "output_type": "display_data"
    },
    {
     "data": {
      "image/jpeg": "[encoded data removed]",
      "image/png": "[encoded data removed]",
      "text/plain": [
       "<PIL.Image.Image image mode=RGB size=100x100>"
      ]
     },
     "metadata": {},
     "output_type": "display_data"
    },
    {
     "data": {
      "text/plain": [
       "(tensor([[-0.6426, -0.1269,  2.3068, -0.9013, -0.3880,  0.8213, -0.4331,  0.9216,\n",
       "           0.5704,  0.7808, -0.7153,  0.9370, -0.6248,  0.6988, -0.3492, -0.9757,\n",
       "          -0.9997, -0.6544, -0.2192, -0.0233, -0.7561,  0.4277,  0.0465,  0.9897,\n",
       "          -0.9039, -0.9989,  0.1434, -0.7732, -0.0929,  0.2839,  0.6341,  0.9957,\n",
       "          -0.9589, -0.9807, -0.1850, -0.5444, -0.1957,  0.9827,  0.8389,  0.3839,\n",
       "          -0.3636, -0.9133, -0.9234,  0.9316,  0.4074, -0.7089, -0.6774, -0.7441,\n",
       "           0.7053,  0.7356, -0.6681, -1.0000, -0.9966,  0.9942, -0.0052,  0.0824,\n",
       "          -0.1072,  0.0104, -0.1642, -0.2132, -0.9999, -0.9864, -0.9770],\n",
       "         [-1.0069,  0.3053,  1.6428,  0.0216,  0.8187, -0.9010, -0.9998,  0.5742,\n",
       "           0.4338, -0.0432,  0.9402, -0.7818,  0.9991, -0.3405, -0.6236, -0.0863,\n",
       "          -0.6404,  0.9750,  0.9963, -0.7681, -0.2224, -0.1720,  0.9837, -0.4336,\n",
       "           0.9851,  0.1798, -0.9011, -0.3388,  0.3538,  0.7814,  0.9408, -0.9353,\n",
       "           0.6240, -0.6376, -0.6619,  0.9752,  0.7704,  0.7496, -0.2212, -0.9824,\n",
       "          -0.9923, -0.4314,  0.1870,  0.1238, -0.9021, -0.3673, -0.2458,  0.7784,\n",
       "          -0.9301, -0.9693,  0.6277,  0.6833,  0.4765,  0.9773,  0.7302,  0.8792,\n",
       "          -0.2120,  0.9978,  0.8378, -0.4143,  0.0663,  0.5459, -0.9101]]),\n",
       " tensor([[-0.6426, -0.1269,  2.3068, -0.9013, -0.3880,  0.8213, -0.4331,  0.9216,\n",
       "           0.5704,  0.7808, -0.7153,  0.9370, -0.6248,  0.6988, -0.3492, -0.9757,\n",
       "          -0.9997, -0.6544, -0.2192, -0.0233, -0.7561,  0.4277,  0.0465,  0.9897,\n",
       "          -0.9039, -0.9989,  0.1434, -0.7732, -0.0929,  0.2839,  0.6341,  0.9957,\n",
       "          -0.9589, -0.9807, -0.1850, -0.5444, -0.1957,  0.9827,  0.8389,  0.3839,\n",
       "          -0.3636, -0.9133, -0.9234,  0.9316,  0.4074, -0.7089, -0.6774, -0.7441,\n",
       "           0.7053,  0.7356, -0.6681, -1.0000, -0.9966,  0.9942, -0.0052,  0.0824,\n",
       "          -0.1072,  0.0104, -0.1642, -0.2132, -0.9999, -0.9864, -0.9770],\n",
       "         [-1.0069,  0.3053,  1.6428,  0.0216,  0.8187, -0.9010, -0.9998,  0.5742,\n",
       "           0.4338, -0.0432,  0.9402, -0.7818,  0.9991, -0.3405, -0.6236, -0.0863,\n",
       "          -0.6404,  0.9750,  0.9963, -0.7681, -0.2224, -0.1720,  0.9837, -0.4336,\n",
       "           0.9851,  0.1798, -0.9011, -0.3388,  0.3538,  0.7814,  0.9408, -0.9353,\n",
       "           0.6240, -0.6376, -0.6619,  0.9752,  0.7704,  0.7496, -0.2212, -0.9824,\n",
       "          -0.9923, -0.4314,  0.1869,  0.1238, -0.9021, -0.3673, -0.2458,  0.7784,\n",
       "          -0.9301, -0.9693,  0.6277,  0.6833,  0.4765,  0.9773,  0.7302,  0.8792,\n",
       "          -0.2120,  0.9978,  0.8378, -0.4143,  0.0663,  0.5460, -0.9101]]))"
      ]
     },
     "metadata": {},
     "output_type": "display_data"
    },
    {
     "data": {
      "text/plain": [
       "(6, 9.438700675964355)"
      ]
     },
     "metadata": {},
     "output_type": "display_data"
    },
    {
     "data": {
      "image/jpeg": "[encoded data removed]",
      "image/png": "[encoded data removed]",
      "text/plain": [
       "<PIL.Image.Image image mode=RGB size=100x100>"
      ]
     },
     "metadata": {},
     "output_type": "display_data"
    },
    {
     "data": {
      "image/jpeg": "[encoded data removed]",
      "image/png": "[encoded data removed]",
      "text/plain": [
       "<PIL.Image.Image image mode=RGB size=100x100>"
      ]
     },
     "metadata": {},
     "output_type": "display_data"
    },
    {
     "data": {
      "text/plain": [
       "(tensor([[-1.0017, -0.1621,  1.9466,  0.0053, -0.4874, -0.1671, -1.0000,  0.8732,\n",
       "           0.9859, -0.0106, -0.8512, -0.3296,  0.9999,  0.5249,  0.9441, -0.0213,\n",
       "          -0.8935, -0.6223,  0.9998, -0.4490,  0.7828, -0.0426,  0.8024, -0.9742,\n",
       "           0.9991, -0.5968,  0.2255, -0.0851, -0.9577, -0.4394,  0.9964, -0.2877,\n",
       "          -0.8983, -0.1695,  0.5511,  0.7895,  0.9855, -0.8344,  0.6138, -0.3341,\n",
       "          -0.9198,  0.9691,  0.9425,  0.3925, -0.2465, -0.6298, -0.7220, -0.4778,\n",
       "           0.7767, -0.6919, -0.8785, -0.9784,  0.9991,  0.8394,  0.2066, -0.0426,\n",
       "           0.5434, -0.4043, -0.0850,  0.9124, -0.9146, -0.9964, -0.4093],\n",
       "         [-0.8668,  0.5458,  1.5670, -0.4064,  0.9897, -0.9779, -0.9137, -0.1433,\n",
       "           0.2089,  0.7426, -0.2836, -0.4085,  0.6697, -0.9589, -0.9127,  0.9947,\n",
       "           0.5440,  0.7458, -0.1029,  0.8391,  0.6662, -0.2047,  0.9129,  0.9937,\n",
       "          -0.9788,  0.4082, -0.1123,  0.4008,  0.7453, -0.2232,  0.9162, -0.6668,\n",
       "          -0.9748,  0.7343, -0.9938,  0.4351,  0.6788, -0.1109,  0.9004,  0.9969,\n",
       "           0.2204,  0.7835, -0.0785, -0.9754,  0.6214, -0.1566, -0.4300,  0.9737,\n",
       "          -0.9877,  0.9028, -0.2277,  0.3093, -0.7764, -0.4434,  0.9510,  0.6303,\n",
       "          -0.8963,  0.5882, -0.9786,  0.7949,  0.8087, -0.2056,  0.6068]]),\n",
       " tensor([[-1.0017, -0.1621,  1.9466,  0.0053, -0.4874, -0.1671, -1.0000,  0.8732,\n",
       "           0.9859, -0.0106, -0.8512, -0.3296,  0.9999,  0.5249,  0.9441, -0.0213,\n",
       "          -0.8935, -0.6223,  0.9998, -0.4490,  0.7828, -0.0426,  0.8024, -0.9742,\n",
       "           0.9991, -0.5968,  0.2255, -0.0851, -0.9577, -0.4394,  0.9964, -0.2877,\n",
       "          -0.8983, -0.1695,  0.5511,  0.7895,  0.9855, -0.8344,  0.6138, -0.3341,\n",
       "          -0.9198,  0.9691,  0.9425,  0.3925, -0.2465, -0.6298, -0.7220, -0.4778,\n",
       "           0.7767, -0.6919, -0.8785, -0.9784,  0.9991,  0.8394,  0.2066, -0.0426,\n",
       "           0.5434, -0.4043, -0.0850,  0.9124, -0.9146, -0.9964, -0.4093],\n",
       "         [-0.8668,  0.5458,  1.5670, -0.4064,  0.9897, -0.9779, -0.9137, -0.1433,\n",
       "           0.2089,  0.7426, -0.2836, -0.4085,  0.6697, -0.9589, -0.9127,  0.9947,\n",
       "           0.5440,  0.7458, -0.1029,  0.8391,  0.6662, -0.2047,  0.9129,  0.9937,\n",
       "          -0.9788,  0.4082, -0.1123,  0.4008,  0.7453, -0.2232,  0.9162, -0.6668,\n",
       "          -0.9748,  0.7343, -0.9938,  0.4351,  0.6788, -0.1109,  0.9004,  0.9969,\n",
       "           0.2204,  0.7835, -0.0785, -0.9754,  0.6214, -0.1566, -0.4300,  0.9737,\n",
       "          -0.9877,  0.9028, -0.2277,  0.3093, -0.7764, -0.4434,  0.9510,  0.6303,\n",
       "          -0.8963,  0.5882, -0.9786,  0.7949,  0.8087, -0.2056,  0.6068]]))"
      ]
     },
     "metadata": {},
     "output_type": "display_data"
    },
    {
     "data": {
      "text/plain": [
       "(7, 8.966991424560547)"
      ]
     },
     "metadata": {},
     "output_type": "display_data"
    },
    {
     "data": {
      "image/jpeg": "[encoded data removed]",
      "image/png": "[encoded data removed]",
      "text/plain": [
       "<PIL.Image.Image image mode=RGB size=100x100>"
      ]
     },
     "metadata": {},
     "output_type": "display_data"
    },
    {
     "data": {
      "image/jpeg": "[encoded data removed]",
      "image/png": "[encoded data removed]",
      "text/plain": [
       "<PIL.Image.Image image mode=RGB size=100x100>"
      ]
     },
     "metadata": {},
     "output_type": "display_data"
    },
    {
     "data": {
      "text/plain": [
       "(tensor([[-0.5922,  0.6070,  1.9304, -0.9584,  0.9441, -0.2168, -0.2855, -0.3298,\n",
       "           0.9762,  0.5473, -0.6226, -0.4234, -0.8370, -0.7825,  0.9060, -0.9161,\n",
       "           0.9744, -0.7671,  0.4010,  0.2247,  0.6415, -0.7347,  0.4378, -0.9842,\n",
       "          -0.6784, -0.8991, -0.1768,  0.9968, -0.7873,  0.3481, -0.0796,  0.6166,\n",
       "          -0.9375, -0.1587, -0.9709, -0.6526, -0.9873, -0.2396,  0.7577,  0.3134,\n",
       "           0.4653, -0.9890,  0.9496, -0.8852,  0.1481,  0.5953, -0.8237, -0.2929,\n",
       "           0.8035,  0.5670, -0.9561,  0.9566, -0.9341,  0.5602,  0.2913, -0.3570,\n",
       "           0.8284,  0.5574,  0.6670,  0.9281, -0.8303, -0.7451,  0.3724],\n",
       "         [-0.4981,  0.7270,  1.8189, -1.0000,  0.7563, -0.5388,  0.0060, -0.6542,\n",
       "           0.8424, -0.0121, -0.9896, -0.9079, -0.9999, -0.1441,  0.4193,  0.0241,\n",
       "           0.2851, -0.7613,  0.9997, -0.9585, -0.6484,  0.0482, -0.5466,  0.9873,\n",
       "           0.9988,  0.8374, -0.1592,  0.0963, -0.9155, -0.3143,  0.9954,  0.4024,\n",
       "          -0.9493,  0.1917, -0.7368,  0.5967,  0.9815, -0.6761,  0.8024,  0.3763,\n",
       "           0.9963,  0.9577,  0.9265, -0.0857,  0.2878,  0.6973, -0.1708,  0.5513,\n",
       "           0.7168, -0.9853, -0.8343,  0.9996,  0.3366, -0.9199,  0.0276,  0.9417,\n",
       "           0.3921,  0.0552,  0.6339, -0.7215, -0.9985,  0.7734, -0.6925]]),\n",
       " tensor([[-0.5922,  0.6070,  1.9304, -0.9584,  0.9441, -0.2168, -0.2855, -0.3298,\n",
       "           0.9762,  0.5473, -0.6226, -0.4234, -0.8370, -0.7825,  0.9060, -0.9161,\n",
       "           0.9744, -0.7671,  0.4010,  0.2247,  0.6415, -0.7347,  0.4378, -0.9842,\n",
       "          -0.6784, -0.8991, -0.1768,  0.9968, -0.7873,  0.3481, -0.0796,  0.6166,\n",
       "          -0.9375, -0.1587, -0.9709, -0.6526, -0.9873, -0.2396,  0.7577,  0.3134,\n",
       "           0.4653, -0.9890,  0.9496, -0.8852,  0.1481,  0.5953, -0.8237, -0.2929,\n",
       "           0.8035,  0.5670, -0.9561,  0.9566, -0.9341,  0.5602,  0.2913, -0.3570,\n",
       "           0.8284,  0.5574,  0.6670,  0.9281, -0.8303, -0.7451,  0.3724],\n",
       "         [-0.4981,  0.7270,  1.8189, -1.0000,  0.7563, -0.5388,  0.0060, -0.6542,\n",
       "           0.8424, -0.0121, -0.9896, -0.9079, -0.9999, -0.1441,  0.4193,  0.0241,\n",
       "           0.2851, -0.7613,  0.9997, -0.9585, -0.6484,  0.0482, -0.5466,  0.9873,\n",
       "           0.9988,  0.8374, -0.1592,  0.0963, -0.9155, -0.3143,  0.9954,  0.4024,\n",
       "          -0.9493,  0.1917, -0.7368,  0.5967,  0.9815, -0.6761,  0.8024,  0.3763,\n",
       "           0.9963,  0.9577,  0.9265, -0.0857,  0.2878,  0.6973, -0.1708,  0.5513,\n",
       "           0.7168, -0.9853, -0.8343,  0.9996,  0.3366, -0.9199,  0.0276,  0.9417,\n",
       "           0.3921,  0.0552,  0.6339, -0.7215, -0.9985,  0.7734, -0.6925]]))"
      ]
     },
     "metadata": {},
     "output_type": "display_data"
    },
    {
     "data": {
      "text/plain": [
       "(8, 9.89918041229248)"
      ]
     },
     "metadata": {},
     "output_type": "display_data"
    },
    {
     "data": {
      "image/jpeg": "[encoded data removed]",
      "image/png": "[encoded data removed]",
      "text/plain": [
       "<PIL.Image.Image image mode=RGB size=100x100>"
      ]
     },
     "metadata": {},
     "output_type": "display_data"
    },
    {
     "data": {
      "image/jpeg": "[encoded data removed]",
      "image/png": "[encoded data removed]",
      "text/plain": [
       "<PIL.Image.Image image mode=RGB size=100x100>"
      ]
     },
     "metadata": {},
     "output_type": "display_data"
    },
    {
     "data": {
      "text/plain": [
       "(tensor([[-6.8300e-01,  1.2349e+00,  1.6894e+00, -8.3924e-01, -6.7268e-01,\n",
       "          -8.2822e-01, -5.4376e-01, -7.3993e-01,  5.6041e-01,  9.1269e-01,\n",
       "           9.9548e-01, -9.2828e-01, -4.0866e-01,  9.5001e-02, -3.7189e-01,\n",
       "          -7.4595e-01,  1.8914e-01,  6.9043e-01, -6.6600e-01, -9.8195e-01,\n",
       "          -7.2340e-01,  9.9361e-01, -3.7146e-01, -9.9891e-01, -1.1289e-01,\n",
       "           9.2845e-01,  4.6617e-02, -2.2434e-01, -6.8976e-01, -9.3131e-02,\n",
       "          -9.7451e-01,  7.2404e-01, -9.9565e-01,  4.3724e-01, -9.9882e-01,\n",
       "           1.8545e-01,  8.9935e-01,  4.8471e-02,  9.8265e-01,  7.8646e-01,\n",
       "          -9.6835e-02,  3.6447e-01,  6.1764e-01, -9.9530e-01,  9.3121e-01,\n",
       "           9.7150e-01,  1.9276e-01,  6.7880e-01, -2.3703e-01,  9.8125e-01,\n",
       "           7.3432e-01, -4.6054e-01,  3.7829e-01,  9.9692e-01, -8.8764e-01,\n",
       "           9.2569e-01,  7.8459e-02,  8.1759e-01,  7.0035e-01,  1.5644e-01,\n",
       "           5.7580e-01,  7.1379e-01, -9.8769e-01],\n",
       "         [-1.2770e-03,  1.1234e+00,  1.5329e+00, -4.0117e-03, -3.7803e-01,\n",
       "          -9.9466e-01,  9.9999e-01, -9.2579e-01,  1.0322e-01, -8.0234e-03,\n",
       "           6.9996e-01, -2.0534e-01,  9.9997e-01,  7.1418e-01, -9.7869e-01,\n",
       "          -1.6046e-02,  9.9980e-01,  4.0193e-01,  9.9987e-01,  2.0106e-02,\n",
       "           9.1567e-01, -3.2088e-02,  4.0204e-02,  7.3608e-01,  9.9949e-01,\n",
       "          -9.9919e-01,  6.7690e-01, -6.4143e-02, -8.0342e-02,  9.9650e-01,\n",
       "           9.9794e-01,  9.9677e-01, -8.3613e-02, -1.2802e-01, -1.6017e-01,\n",
       "          -1.6665e-01,  9.9177e-01,  9.8709e-01, -9.8602e-01, -2.5394e-01,\n",
       "          -3.1619e-01,  3.2863e-01,  9.6722e-01,  9.4870e-01,  9.4446e-01,\n",
       "          -4.9123e-01, -5.9994e-01,  6.2076e-01,  8.7103e-01,  8.0004e-01,\n",
       "           7.8400e-01, -8.5575e-01, -9.5996e-01,  9.7335e-01,  5.1739e-01,\n",
       "           2.8014e-01,  2.2930e-01, -8.8551e-01, -5.3783e-01,  4.4640e-01,\n",
       "          -4.6462e-01, -8.4305e-01, -8.9484e-01]]),\n",
       " tensor([[-6.8300e-01,  1.2349e+00,  1.6894e+00, -8.3924e-01, -6.7268e-01,\n",
       "          -8.2822e-01, -5.4376e-01, -7.3993e-01,  5.6041e-01,  9.1269e-01,\n",
       "           9.9548e-01, -9.2828e-01, -4.0866e-01,  9.5000e-02, -3.7189e-01,\n",
       "          -7.4595e-01,  1.8914e-01,  6.9043e-01, -6.6600e-01, -9.8195e-01,\n",
       "          -7.2340e-01,  9.9361e-01, -3.7146e-01, -9.9891e-01, -1.1289e-01,\n",
       "           9.2845e-01,  4.6616e-02, -2.2434e-01, -6.8976e-01, -9.3131e-02,\n",
       "          -9.7451e-01,  7.2404e-01, -9.9565e-01,  4.3724e-01, -9.9882e-01,\n",
       "           1.8545e-01,  8.9935e-01,  4.8474e-02,  9.8265e-01,  7.8646e-01,\n",
       "          -9.6835e-02,  3.6447e-01,  6.1765e-01, -9.9530e-01,  9.3122e-01,\n",
       "           9.7150e-01,  1.9276e-01,  6.7880e-01, -2.3702e-01,  9.8125e-01,\n",
       "           7.3432e-01, -4.6054e-01,  3.7829e-01,  9.9692e-01, -8.8764e-01,\n",
       "           9.2569e-01,  7.8464e-02,  8.1759e-01,  7.0035e-01,  1.5644e-01,\n",
       "           5.7580e-01,  7.1380e-01, -9.8769e-01],\n",
       "         [-1.2770e-03,  1.1234e+00,  1.5329e+00, -4.0117e-03, -3.7803e-01,\n",
       "          -9.9466e-01,  9.9999e-01, -9.2579e-01,  1.0322e-01, -8.0234e-03,\n",
       "           6.9996e-01, -2.0534e-01,  9.9997e-01,  7.1418e-01, -9.7869e-01,\n",
       "          -1.6046e-02,  9.9980e-01,  4.0193e-01,  9.9987e-01,  2.0106e-02,\n",
       "           9.1567e-01, -3.2088e-02,  4.0204e-02,  7.3608e-01,  9.9949e-01,\n",
       "          -9.9919e-01,  6.7690e-01, -6.4143e-02, -8.0342e-02,  9.9650e-01,\n",
       "           9.9794e-01,  9.9677e-01, -8.3617e-02, -1.2802e-01, -1.6017e-01,\n",
       "          -1.6665e-01,  9.9177e-01,  9.8709e-01, -9.8602e-01, -2.5394e-01,\n",
       "          -3.1619e-01,  3.2863e-01,  9.6722e-01,  9.4869e-01,  9.4446e-01,\n",
       "          -4.9123e-01, -5.9994e-01,  6.2076e-01,  8.7103e-01,  8.0004e-01,\n",
       "           7.8400e-01, -8.5575e-01, -9.5996e-01,  9.7335e-01,  5.1739e-01,\n",
       "           2.8013e-01,  2.2931e-01, -8.8551e-01, -5.3783e-01,  4.4640e-01,\n",
       "          -4.6462e-01, -8.4305e-01, -8.9484e-01]]))"
      ]
     },
     "metadata": {},
     "output_type": "display_data"
    },
    {
     "data": {
      "text/plain": [
       "(9, 12.579294204711914)"
      ]
     },
     "metadata": {},
     "output_type": "display_data"
    },
    {
     "data": {
      "image/jpeg": "[encoded data removed]",
      "image/png": "[encoded data removed]",
      "text/plain": [
       "<PIL.Image.Image image mode=RGB size=100x100>"
      ]
     },
     "metadata": {},
     "output_type": "display_data"
    },
    {
     "data": {
      "image/jpeg": "[encoded data removed]",
      "image/png": "[encoded data removed]",
      "text/plain": [
       "<PIL.Image.Image image mode=RGB size=100x100>"
      ]
     },
     "metadata": {},
     "output_type": "display_data"
    },
    {
     "data": {
      "text/plain": [
       "(tensor([[ 1.0935, -1.4736,  1.0335, -0.2896,  0.9966, -0.1050, -0.9571, -0.0829,\n",
       "          -0.9945,  0.5544, -0.1652,  0.2088,  0.8322, -0.9863,  0.9779,  0.9228,\n",
       "           0.3258,  0.4085,  0.3852,  0.9454,  0.9128,  0.7109,  0.6161,  0.7457,\n",
       "          -0.7033,  0.7877,  0.6663, -0.9999,  0.9706,  0.9937, -0.0108,  0.2409,\n",
       "          -0.1121,  0.0216,  0.4676, -0.2228, -0.9998, -0.8839, -0.9749, -0.0432,\n",
       "          -0.8266,  0.4345,  0.9991,  0.5627,  0.9007, -0.0863, -0.9303,  0.7826,\n",
       "           0.9963, -0.3667,  0.6225, -0.1719,  0.6823,  0.9743,  0.9851, -0.7311,\n",
       "          -0.2251, -0.3386, -0.9976, -0.4386,  0.9409,  0.0689, -0.8987],\n",
       "         [ 0.9592, -1.4551,  1.0620,  0.1278,  0.9901, -0.1935, -0.9918, -0.1405,\n",
       "          -0.9811, -0.2536, -0.2783,  0.3796,  0.9673, -0.9605,  0.9252, -0.4906,\n",
       "           0.5346,  0.7024,  0.8714,  0.8451,  0.7118, -0.8549,  0.9036,  0.9999,\n",
       "           0.5187,  0.4284,  0.0133, -0.8869,  0.7742,  0.0267, -0.4619, -0.6329,\n",
       "          -0.9996,  0.8193, -0.9800, -0.0533, -0.5734, -0.1988,  0.9986, -0.9395,\n",
       "           0.3896, -0.1065, -0.3425, -0.9210,  0.9943,  0.6436, -0.7177, -0.2118,\n",
       "          -0.7654,  0.6964,  0.9773, -0.9852, -0.9995, -0.4139,  0.1716, -0.0302,\n",
       "           0.9103, -0.3380,  0.0603, -0.7536, -0.9411, -0.9982,  0.6573]]),\n",
       " tensor([[ 1.0935, -1.4736,  1.0335, -0.2896,  0.9966, -0.1050, -0.9571, -0.0829,\n",
       "          -0.9945,  0.5544, -0.1652,  0.2088,  0.8322, -0.9863,  0.9779,  0.9228,\n",
       "           0.3258,  0.4085,  0.3852,  0.9454,  0.9128,  0.7109,  0.6161,  0.7457,\n",
       "          -0.7033,  0.7877,  0.6663, -0.9999,  0.9706,  0.9937, -0.0108,  0.2409,\n",
       "          -0.1121,  0.0216,  0.4676, -0.2228, -0.9998, -0.8839, -0.9749, -0.0432,\n",
       "          -0.8266,  0.4345,  0.9991,  0.5627,  0.9007, -0.0863, -0.9303,  0.7826,\n",
       "           0.9963, -0.3667,  0.6225, -0.1719,  0.6823,  0.9743,  0.9851, -0.7311,\n",
       "          -0.2251, -0.3386, -0.9976, -0.4386,  0.9409,  0.0689, -0.8987],\n",
       "         [ 0.9592, -1.4551,  1.0620,  0.1278,  0.9901, -0.1935, -0.9918, -0.1405,\n",
       "          -0.9811, -0.2536, -0.2783,  0.3796,  0.9673, -0.9605,  0.9252, -0.4906,\n",
       "           0.5346,  0.7024,  0.8714,  0.8451,  0.7118, -0.8549,  0.9036,  0.9999,\n",
       "           0.5187,  0.4284,  0.0133, -0.8869,  0.7742,  0.0267, -0.4619, -0.6329,\n",
       "          -0.9996,  0.8193, -0.9800, -0.0533, -0.5734, -0.1988,  0.9986, -0.9395,\n",
       "           0.3896, -0.1065, -0.3425, -0.9210,  0.9943,  0.6436, -0.7177, -0.2118,\n",
       "          -0.7654,  0.6964,  0.9773, -0.9852, -0.9995, -0.4139,  0.1716, -0.0302,\n",
       "           0.9103, -0.3380,  0.0603, -0.7536, -0.9411, -0.9982,  0.6573]]))"
      ]
     },
     "metadata": {},
     "output_type": "display_data"
    },
    {
     "data": {
      "text/plain": [
       "(10, 11.29494571685791)"
      ]
     },
     "metadata": {},
     "output_type": "display_data"
    },
    {
     "data": {
      "image/jpeg": "[encoded data removed]",
      "image/png": "[encoded data removed]",
      "text/plain": [
       "<PIL.Image.Image image mode=RGB size=100x100>"
      ]
     },
     "metadata": {},
     "output_type": "display_data"
    },
    {
     "data": {
      "image/jpeg": "[encoded data removed]",
      "image/png": "[encoded data removed]",
      "text/plain": [
       "<PIL.Image.Image image mode=RGB size=100x100>"
      ]
     },
     "metadata": {},
     "output_type": "display_data"
    },
    {
     "data": {
      "text/plain": [
       "(tensor([[-0.8198,  1.3401,  1.6234, -0.5363, -0.8765, -0.9258, -0.8440, -0.4815,\n",
       "           0.3781,  0.9053,  0.8440, -0.7001,  0.4248, -0.5364, -0.7141,  0.7691,\n",
       "          -0.9054,  0.9998, -0.6391, -0.4246,  0.0198, -0.9831,  0.7688,  0.0395,\n",
       "          -0.1830, -0.6394, -0.9992,  0.3598, -0.9833, -0.0790, -0.9330, -0.1822,\n",
       "           0.9969, -0.6714,  0.3584, -0.1575,  0.7411, -0.9336,  0.9875, -0.9952,\n",
       "          -0.6691, -0.3111,  0.0983,  0.7432,  0.9504, -0.1957, -0.9945, -0.5913,\n",
       "          -0.9807,  0.1046,  0.8064,  0.3839, -0.2079, -0.9537,  0.9234, -0.9781,\n",
       "           0.3006,  0.7089,  0.4068, -0.5734,  0.7053,  0.9135, -0.8193],\n",
       "         [ 0.0124,  1.1631,  1.4858,  0.0389, -0.4901, -0.9990,  0.9992, -0.8716,\n",
       "          -0.0446,  0.0777,  0.8544,  0.0890,  0.9970,  0.5195, -0.9960,  0.1549,\n",
       "           0.8878, -0.1774,  0.9879, -0.4602,  0.9841,  0.3060, -0.8171, -0.3491,\n",
       "           0.9520, -0.5765,  0.9371,  0.5827,  0.9421, -0.6543,  0.8127, -0.3353,\n",
       "           0.7562,  0.9471, -0.6318, -0.9896,  0.3209, -0.7751,  0.1437,  0.6079,\n",
       "           0.9794, -0.2844, -0.7940,  0.2017, -0.9587, -0.9653,  0.3951,  0.5454,\n",
       "           0.2610, -0.9186,  0.8382, -0.5039, -0.7259,  0.9143, -0.8638,  0.6878,\n",
       "           0.4051,  0.8705, -0.9985,  0.7408,  0.4922, -0.0540, -0.6717]]),\n",
       " tensor([[-0.8198,  1.3401,  1.6234, -0.5363, -0.8765, -0.9258, -0.8440, -0.4815,\n",
       "           0.3781,  0.9053,  0.8440, -0.7001,  0.4248, -0.5364, -0.7141,  0.7691,\n",
       "          -0.9054,  0.9998, -0.6391, -0.4246,  0.0198, -0.9831,  0.7688,  0.0395,\n",
       "          -0.1830, -0.6394, -0.9992,  0.3598, -0.9833, -0.0790, -0.9330, -0.1822,\n",
       "           0.9969, -0.6714,  0.3584, -0.1575,  0.7411, -0.9336,  0.9875, -0.9952,\n",
       "          -0.6691, -0.3111,  0.0983,  0.7432,  0.9504, -0.1957, -0.9945, -0.5913,\n",
       "          -0.9807,  0.1045,  0.8064,  0.3839, -0.2079, -0.9537,  0.9234, -0.9781,\n",
       "           0.3006,  0.7089,  0.4068, -0.5734,  0.7053,  0.9135, -0.8193],\n",
       "         [ 0.0124,  1.1631,  1.4858,  0.0389, -0.4901, -0.9990,  0.9992, -0.8716,\n",
       "          -0.0446,  0.0777,  0.8544,  0.0890,  0.9970,  0.5195, -0.9960,  0.1549,\n",
       "           0.8878, -0.1774,  0.9879, -0.4602,  0.9841,  0.3060, -0.8171, -0.3491,\n",
       "           0.9520, -0.5765,  0.9371,  0.5827,  0.9421, -0.6543,  0.8127, -0.3353,\n",
       "           0.7562,  0.9471, -0.6318, -0.9896,  0.3209, -0.7751,  0.1437,  0.6079,\n",
       "           0.9794, -0.2844, -0.7940,  0.2017, -0.9587, -0.9653,  0.3951,  0.5454,\n",
       "           0.2610, -0.9186,  0.8382, -0.5039, -0.7259,  0.9143, -0.8638,  0.6878,\n",
       "           0.4051,  0.8705, -0.9985,  0.7408,  0.4922, -0.0540, -0.6717]]))"
      ]
     },
     "metadata": {},
     "output_type": "display_data"
    },
    {
     "data": {
      "text/plain": [
       "(11, 12.97541618347168)"
      ]
     },
     "metadata": {},
     "output_type": "display_data"
    },
    {
     "data": {
      "image/jpeg": "[encoded data removed]",
      "image/png": "[encoded data removed]",
      "text/plain": [
       "<PIL.Image.Image image mode=RGB size=100x100>"
      ]
     },
     "metadata": {},
     "output_type": "display_data"
    },
    {
     "data": {
      "image/jpeg": "[encoded data removed]",
      "image/png": "[encoded data removed]",
      "text/plain": [
       "<PIL.Image.Image image mode=RGB size=100x100>"
      ]
     },
     "metadata": {},
     "output_type": "display_data"
    },
    {
     "data": {
      "text/plain": [
       "(tensor([[-1.5024,  0.7992,  1.6516,  1.0000,  0.5898, -0.8887,  0.0074, -0.8075,\n",
       "           0.4586,  0.0149, -0.9526, -0.8150, -0.9999,  0.3042, -0.5794, -0.0298,\n",
       "          -0.5796,  0.9445,  0.9996, -0.8149, -0.3286, -0.0595,  0.9446, -0.6207,\n",
       "           0.9982,  0.3281, -0.7841, -0.1189,  0.6199,  0.9733,  0.9929, -0.7847,\n",
       "           0.2296, -0.2360, -0.9729,  0.4468,  0.9717,  0.2314, -0.8946, -0.4588,\n",
       "          -0.4502, -0.7995,  0.8886, -0.8929,  0.6007, -0.8153,  0.8040, -0.9605,\n",
       "           0.5791,  0.5946, -0.2784, -0.9442,  0.9562,  0.5348, -0.3293, -0.2929,\n",
       "          -0.8450,  0.6219, -0.5601, -0.9037, -0.7831, -0.8284,  0.4281],\n",
       "         [-0.6290,  1.0181,  1.5066, -0.9190, -0.0569, -0.9998, -0.3942, -0.9984,\n",
       "           0.0207,  0.7245,  0.1136, -0.0415, -0.6893,  0.9935, -0.9991, -0.9988,\n",
       "           0.2257,  0.0829, -0.0498,  0.9742,  0.9966,  0.0995,  0.4398,  0.1652,\n",
       "          -0.9950,  0.8981,  0.9863, -0.1981,  0.7900,  0.3259,  0.9802,  0.6131,\n",
       "           0.9454, -0.3883,  0.9687,  0.6163,  0.9215, -0.2482,  0.7875, -0.7157,\n",
       "          -0.4808,  0.9707,  0.6984, -0.8768,  0.2404, -0.9997,  0.8432,  0.4666,\n",
       "          -0.0245,  0.5377, -0.8845,  0.0491,  0.9067, -0.8254, -0.9988, -0.4219,\n",
       "           0.5645, -0.0980, -0.7650, -0.9319,  0.9952, -0.6441, -0.3626]]),\n",
       " tensor([[-1.5024,  0.7992,  1.6516,  1.0000,  0.5898, -0.8887,  0.0074, -0.8075,\n",
       "           0.4586,  0.0149, -0.9526, -0.8150, -0.9999,  0.3042, -0.5794, -0.0298,\n",
       "          -0.5796,  0.9445,  0.9996, -0.8149, -0.3286, -0.0595,  0.9446, -0.6207,\n",
       "           0.9982,  0.3281, -0.7841, -0.1189,  0.6199,  0.9733,  0.9929, -0.7847,\n",
       "           0.2295, -0.2360, -0.9729,  0.4468,  0.9717,  0.2314, -0.8946, -0.4588,\n",
       "          -0.4502, -0.7995,  0.8886, -0.8929,  0.6007, -0.8153,  0.8040, -0.9605,\n",
       "           0.5791,  0.5946, -0.2784, -0.9442,  0.9562,  0.5348, -0.3293, -0.2929,\n",
       "          -0.8450,  0.6219, -0.5601, -0.9037, -0.7831, -0.8284,  0.4281],\n",
       "         [-0.6290,  1.0181,  1.5066, -0.9190, -0.0569, -0.9998, -0.3942, -0.9984,\n",
       "           0.0207,  0.7245,  0.1136, -0.0415, -0.6893,  0.9935, -0.9991, -0.9988,\n",
       "           0.2257,  0.0829, -0.0498,  0.9742,  0.9966,  0.0995,  0.4398,  0.1652,\n",
       "          -0.9950,  0.8981,  0.9863, -0.1981,  0.7900,  0.3259,  0.9802,  0.6131,\n",
       "           0.9454, -0.3883,  0.9687,  0.6163,  0.9215, -0.2482,  0.7875, -0.7157,\n",
       "          -0.4808,  0.9707,  0.6984, -0.8768,  0.2404, -0.9997,  0.8432,  0.4666,\n",
       "          -0.0245,  0.5377, -0.8845,  0.0491,  0.9067, -0.8254, -0.9988, -0.4219,\n",
       "           0.5645, -0.0980, -0.7650, -0.9319,  0.9952, -0.6441, -0.3626]]))"
      ]
     },
     "metadata": {},
     "output_type": "display_data"
    },
    {
     "data": {
      "text/plain": [
       "(12, 12.640952110290527)"
      ]
     },
     "metadata": {},
     "output_type": "display_data"
    },
    {
     "data": {
      "image/jpeg": "[encoded data removed]",
      "image/png": "[encoded data removed]",
      "text/plain": [
       "<PIL.Image.Image image mode=RGB size=100x100>"
      ]
     },
     "metadata": {},
     "output_type": "display_data"
    },
    {
     "data": {
      "image/jpeg": "[encoded data removed]",
      "image/png": "[encoded data removed]",
      "text/plain": [
       "<PIL.Image.Image image mode=RGB size=100x100>"
      ]
     },
     "metadata": {},
     "output_type": "display_data"
    },
    {
     "data": {
      "text/plain": [
       "(tensor([[-0.8062, -1.7379,  1.4275, -0.5720,  0.7334, -0.9742, -0.8203,  0.6798,\n",
       "          -0.2257,  0.9383,  0.9971,  0.4397,  0.3457, -0.0757, -0.8982,  0.6488,\n",
       "          -0.1510, -0.7898, -0.7609, -0.9885,  0.6133, -0.9874,  0.2986, -0.9689,\n",
       "           0.1581,  0.9544, -0.2476, -0.3122,  0.5699,  0.4798, -0.9500,  0.8217,\n",
       "          -0.8774,  0.5931,  0.9366, -0.8419,  0.8051,  0.3504,  0.5396,  0.9551,\n",
       "           0.6563, -0.9086,  0.2964, -0.7545, -0.4177,  0.5662, -0.9904,  0.7590,\n",
       "          -0.8243,  0.1384, -0.6511, -0.9334, -0.2742, -0.9884,  0.3589, -0.9617,\n",
       "          -0.1522, -0.6699,  0.5274,  0.3008, -0.7424,  0.8496, -0.9537],\n",
       "         [-0.9597, -1.1206,  1.4070, -0.1262,  0.3697, -0.9576, -0.9920, -0.9291,\n",
       "          -0.2880,  0.2504, -0.6871,  0.5516,  0.9682,  0.7266, -0.8341,  0.4848,\n",
       "          -0.9984, -0.9202,  0.8746,  0.0558,  0.3914,  0.8480, -0.1115, -0.7203,\n",
       "           0.5300, -0.9938, -0.6936,  0.8988,  0.2216,  0.9993, -0.4383,  0.9751,\n",
       "          -0.0378, -0.7879,  0.4321, -0.0755, -0.6158,  0.9018, -0.9971,  0.9704,\n",
       "           0.7794,  0.1506, -0.2415,  0.6266,  0.9886, -0.4688,  0.9767,  0.2977,\n",
       "          -0.8833, -0.2148,  0.9546,  0.8281, -0.4195,  0.5685,  0.5605, -0.9077,\n",
       "           0.8227,  0.9284,  0.7617,  0.9354, -0.3716,  0.6480,  0.3537]]),\n",
       " tensor([[-0.8062, -1.7379,  1.4275, -0.5720,  0.7334, -0.9742, -0.8203,  0.6798,\n",
       "          -0.2257,  0.9383,  0.9971,  0.4397,  0.3457, -0.0757, -0.8982,  0.6488,\n",
       "          -0.1510, -0.7898, -0.7609, -0.9885,  0.6133, -0.9874,  0.2986, -0.9689,\n",
       "           0.1581,  0.9544, -0.2476, -0.3122,  0.5699,  0.4798, -0.9500,  0.8217,\n",
       "          -0.8774,  0.5931,  0.9366, -0.8419,  0.8051,  0.3504,  0.5396,  0.9551,\n",
       "           0.6563, -0.9086,  0.2964, -0.7545, -0.4177,  0.5662, -0.9904,  0.7590,\n",
       "          -0.8243,  0.1384, -0.6511, -0.9334, -0.2742, -0.9884,  0.3589, -0.9617,\n",
       "          -0.1522, -0.6699,  0.5274,  0.3008, -0.7424,  0.8496, -0.9537],\n",
       "         [-0.9597, -1.1206,  1.4070, -0.1262,  0.3697, -0.9576, -0.9920, -0.9291,\n",
       "          -0.2880,  0.2504, -0.6871,  0.5516,  0.9682,  0.7266, -0.8341,  0.4848,\n",
       "          -0.9984, -0.9202,  0.8746,  0.0558,  0.3914,  0.8480, -0.1115, -0.7203,\n",
       "           0.5300, -0.9938, -0.6936,  0.8988,  0.2216,  0.9993, -0.4383,  0.9751,\n",
       "          -0.0378, -0.7879,  0.4321, -0.0755, -0.6158,  0.9018, -0.9971,  0.9704,\n",
       "           0.7794,  0.1506, -0.2415,  0.6266,  0.9886, -0.4688,  0.9767,  0.2977,\n",
       "          -0.8833, -0.2148,  0.9546,  0.8281, -0.4195,  0.5685,  0.5605, -0.9077,\n",
       "           0.8227,  0.9284,  0.7617,  0.9354, -0.3716,  0.6480,  0.3537]]))"
      ]
     },
     "metadata": {},
     "output_type": "display_data"
    },
    {
     "data": {
      "text/plain": [
       "(13, 9.803068161010742)"
      ]
     },
     "metadata": {},
     "output_type": "display_data"
    },
    {
     "data": {
      "image/jpeg": "[encoded data removed]",
      "image/png": "[encoded data removed]",
      "text/plain": [
       "<PIL.Image.Image image mode=RGB size=100x100>"
      ]
     },
     "metadata": {},
     "output_type": "display_data"
    },
    {
     "data": {
      "image/jpeg": "[encoded data removed]",
      "image/png": "[encoded data removed]",
      "text/plain": [
       "<PIL.Image.Image image mode=RGB size=100x100>"
      ]
     },
     "metadata": {},
     "output_type": "display_data"
    },
    {
     "data": {
      "text/plain": [
       "(tensor([[ 0.3800, -0.9191,  2.1762,  0.9298, -0.2516,  0.5256,  0.3681, -0.9678,\n",
       "           0.8507,  0.6845,  0.4870,  0.8943, -0.7290,  0.8734,  0.4475, -0.9980,\n",
       "           0.8506,  0.8004,  0.0628,  0.5257, -0.5995, -0.1253,  0.8944, -0.9596,\n",
       "          -0.9921, -0.4472, -0.2813,  0.2487, -0.8000,  0.5399,  0.9686, -0.6001,\n",
       "          -0.8417,  0.4818,  0.9600, -0.9089,  0.8763, -0.2799,  0.4170,  0.8444,\n",
       "          -0.5374, -0.7580,  0.5357, -0.8434, -0.6522,  0.9047,  0.9064,  0.9888,\n",
       "          -0.4260,  0.4225, -0.1492, -0.7708,  0.7659, -0.2951, -0.6370, -0.6430,\n",
       "          -0.9555,  0.9821, -0.9849,  0.5638, -0.1883, -0.1731,  0.8259],\n",
       "         [-0.5671, -0.8568,  1.5692, -0.9778, -0.4349, -0.9765, -0.2094, -0.9005,\n",
       "           0.2156,  0.4094,  0.7832, -0.4210, -0.9123,  0.6218, -0.9071, -0.7471,\n",
       "           0.9740,  0.7637,  0.6647, -0.2268,  0.6455, -0.9932, -0.4417,  0.9860,\n",
       "          -0.1163, -0.8972, -0.1666,  0.2311,  0.7925, -0.3285, -0.9729,  0.6098,\n",
       "          -0.9445, -0.4497,  0.9666,  0.6205,  0.8932, -0.2563,  0.7842, -0.8033,\n",
       "          -0.4954,  0.9732,  0.5956, -0.8686,  0.2300, -0.9569,  0.8607,  0.4477,\n",
       "          -0.2905,  0.5091, -0.8942,  0.5559,  0.8764, -0.8006, -0.8312, -0.4816,\n",
       "           0.5992, -0.9242, -0.8442, -0.9594,  0.3819, -0.5361, -0.2819]]),\n",
       " tensor([[ 0.3800, -0.9191,  2.1762,  0.9298, -0.2516,  0.5256,  0.3681, -0.9678,\n",
       "           0.8507,  0.6845,  0.4870,  0.8943, -0.7290,  0.8734,  0.4475, -0.9980,\n",
       "           0.8506,  0.8004,  0.0628,  0.5257, -0.5995, -0.1253,  0.8944, -0.9596,\n",
       "          -0.9921, -0.4472, -0.2813,  0.2487, -0.8000,  0.5399,  0.9686, -0.6001,\n",
       "          -0.8417,  0.4818,  0.9600, -0.9089,  0.8763, -0.2799,  0.4170,  0.8444,\n",
       "          -0.5374, -0.7580,  0.5357, -0.8434, -0.6522,  0.9047,  0.9064,  0.9888,\n",
       "          -0.4260,  0.4225, -0.1492, -0.7708,  0.7659, -0.2951, -0.6370, -0.6430,\n",
       "          -0.9555,  0.9821, -0.9849,  0.5638, -0.1883, -0.1731,  0.8259],\n",
       "         [-0.5671, -0.8568,  1.5692, -0.9778, -0.4349, -0.9765, -0.2094, -0.9005,\n",
       "           0.2156,  0.4094,  0.7832, -0.4210, -0.9123,  0.6218, -0.9071, -0.7471,\n",
       "           0.9740,  0.7637,  0.6647, -0.2268,  0.6455, -0.9932, -0.4417,  0.9860,\n",
       "          -0.1163, -0.8972, -0.1666,  0.2311,  0.7925, -0.3285, -0.9729,  0.6098,\n",
       "          -0.9445, -0.4497,  0.9666,  0.6205,  0.8932, -0.2563,  0.7842, -0.8033,\n",
       "          -0.4954,  0.9732,  0.5956, -0.8687,  0.2300, -0.9569,  0.8607,  0.4477,\n",
       "          -0.2905,  0.5091, -0.8942,  0.5559,  0.8764, -0.8006, -0.8312, -0.4816,\n",
       "           0.5992, -0.9242, -0.8442, -0.9594,  0.3819, -0.5361, -0.2819]]))"
      ]
     },
     "metadata": {},
     "output_type": "display_data"
    },
    {
     "data": {
      "text/plain": [
       "(14, 8.542769432067871)"
      ]
     },
     "metadata": {},
     "output_type": "display_data"
    },
    {
     "data": {
      "image/jpeg": "[encoded data removed]",
      "image/png": "[encoded data removed]",
      "text/plain": [
       "<PIL.Image.Image image mode=RGB size=100x100>"
      ]
     },
     "metadata": {},
     "output_type": "display_data"
    },
    {
     "data": {
      "image/jpeg": "[encoded data removed]",
      "image/png": "[encoded data removed]",
      "text/plain": [
       "<PIL.Image.Image image mode=RGB size=100x100>"
      ]
     },
     "metadata": {},
     "output_type": "display_data"
    },
    {
     "data": {
      "text/plain": [
       "(tensor([[ 0.6073, -0.4934,  2.1397,  0.9437, -0.9998,  0.4248, -0.3307,  0.0208,\n",
       "           0.9053, -0.6242, -0.0415,  0.7692, -0.7812, -0.9991,  0.6391,  0.9753,\n",
       "           0.0829,  0.9831,  0.2207,  0.9966, -0.1832,  0.4305,  0.1653, -0.3602,\n",
       "          -0.9026,  0.9862, -0.9329, -0.7771,  0.3260,  0.6721,  0.6294,  0.9454,\n",
       "           0.7405, -0.9782,  0.6164,  0.9953, -0.2077,  0.7874,  0.0966,  0.4063,\n",
       "           0.9707,  0.1922, -0.9137,  0.2401, -0.9813, -0.7425,  0.4662, -0.3773,\n",
       "           0.6698, -0.8847,  0.9261, -0.9947, -0.8248, -0.6989, -0.1027,  0.5654,\n",
       "           0.7153,  0.2043, -0.9327, -0.9997, -0.9789, -0.3606,  0.0232],\n",
       "         [ 0.7802, -1.0239,  1.3590,  0.6368,  0.0752, -0.9034, -0.7710, -0.9972,\n",
       "          -0.4287, -0.9820, -0.1499,  0.7746,  0.1889,  0.9887, -0.6324, -0.3710,\n",
       "          -0.2964, -0.9798, -0.9286,  0.9551, -0.2001,  0.6890, -0.5662,  0.3921,\n",
       "           0.7247,  0.8243, -0.9199,  0.9987, -0.9334, -0.7213,  0.0505,  0.3589,\n",
       "           0.6926,  0.1009, -0.6699, -0.9992, -0.9949, -0.7424, -0.0406, -0.2007,\n",
       "           0.9947,  0.0812,  0.9797,  0.1024, -0.9967, -0.3932,  0.2038, -0.1619,\n",
       "           0.9194, -0.9790,  0.9868, -0.7231, -0.3991, -0.3194,  0.6907,  0.9169,\n",
       "           0.9476, -0.9990, -0.7319, -0.6054, -0.0457,  0.6814,  0.7959]]),\n",
       " tensor([[ 0.6073, -0.4934,  2.1397,  0.9437, -0.9998,  0.4248, -0.3307,  0.0208,\n",
       "           0.9053, -0.6242, -0.0415,  0.7692, -0.7812, -0.9991,  0.6391,  0.9753,\n",
       "           0.0829,  0.9831,  0.2207,  0.9966, -0.1832,  0.4305,  0.1653, -0.3602,\n",
       "          -0.9026,  0.9862, -0.9329, -0.7771,  0.3260,  0.6721,  0.6294,  0.9454,\n",
       "           0.7405, -0.9782,  0.6164,  0.9953, -0.2077,  0.7874,  0.0966,  0.4063,\n",
       "           0.9707,  0.1922, -0.9137,  0.2401, -0.9813, -0.7425,  0.4662, -0.3773,\n",
       "           0.6698, -0.8847,  0.9261, -0.9947, -0.8248, -0.6989, -0.1027,  0.5654,\n",
       "           0.7153,  0.2043, -0.9327, -0.9997, -0.9789, -0.3606,  0.0232],\n",
       "         [ 0.7802, -1.0239,  1.3590,  0.6368,  0.0752, -0.9034, -0.7710, -0.9972,\n",
       "          -0.4287, -0.9820, -0.1499,  0.7746,  0.1889,  0.9887, -0.6324, -0.3710,\n",
       "          -0.2964, -0.9798, -0.9286,  0.9551, -0.2001,  0.6890, -0.5662,  0.3921,\n",
       "           0.7247,  0.8243, -0.9199,  0.9987, -0.9334, -0.7213,  0.0505,  0.3589,\n",
       "           0.6926,  0.1009, -0.6699, -0.9992, -0.9949, -0.7424, -0.0406, -0.2007,\n",
       "           0.9947,  0.0812,  0.9797,  0.1025, -0.9967, -0.3932,  0.2038, -0.1619,\n",
       "           0.9194, -0.9790,  0.9868, -0.7231, -0.3991, -0.3194,  0.6907,  0.9169,\n",
       "           0.9476, -0.9990, -0.7319, -0.6054, -0.0457,  0.6814,  0.7959]]))"
      ]
     },
     "metadata": {},
     "output_type": "display_data"
    },
    {
     "data": {
      "text/plain": [
       "(15, 10.557012557983398)"
      ]
     },
     "metadata": {},
     "output_type": "display_data"
    },
    {
     "data": {
      "image/jpeg": "[encoded data removed]",
      "image/png": "[encoded data removed]",
      "text/plain": [
       "<PIL.Image.Image image mode=RGB size=100x100>"
      ]
     },
     "metadata": {},
     "output_type": "display_data"
    },
    {
     "data": {
      "image/jpeg": "[encoded data removed]",
      "image/png": "[encoded data removed]",
      "text/plain": [
       "<PIL.Image.Image image mode=RGB size=100x100>"
      ]
     },
     "metadata": {},
     "output_type": "display_data"
    },
    {
     "data": {
      "text/plain": [
       "(tensor([[-1.1915, -0.2368,  2.0795,  0.5660, -0.6772,  0.2471, -0.8244,  0.7358,\n",
       "           0.9690, -0.9332, -0.9966,  0.4788,  0.3593,  0.0828,  0.8779, -0.6706,\n",
       "          -0.1650,  0.8407, -0.7418, -0.9863,  0.5415,  0.9949,  0.3255,  0.9105,\n",
       "           0.1006,  0.9456, -0.4136,  0.2002,  0.6155, -0.7532, -0.9797,  0.7881,\n",
       "          -0.6578, -0.3923,  0.9702,  0.9909,  0.9198,  0.2423, -0.1345, -0.7218,\n",
       "           0.4702, -0.2665,  0.6921, -0.8826, -0.9638, -0.9991, -0.8300,  0.5138,\n",
       "          -0.0419,  0.5578,  0.8579,  0.0837, -0.9259,  0.8816, -0.9965, -0.3777,\n",
       "           0.4720, -0.1669,  0.6995,  0.8323,  0.9860, -0.7147, -0.5544],\n",
       "         [-0.7914,  0.6022,  1.6245, -0.6094,  0.9489, -0.9245, -0.7929, -0.3157,\n",
       "           0.3811,  0.9663, -0.5991, -0.7047,  0.2573, -0.8007, -0.7095,  0.4973,\n",
       "           0.9594,  1.0000, -0.8676,  0.2821,  0.0068, -0.8629,  0.5413,  0.0137,\n",
       "           0.5054, -0.8408, -0.9999, -0.8722, -0.9103, -0.0274, -0.4892,  0.4139,\n",
       "           0.9996,  0.8533, -0.7535, -0.0548, -0.5214, -0.6574,  0.9985, -0.8898,\n",
       "           0.9908, -0.1094, -0.4563, -0.1356,  0.9940,  0.8120, -0.2688, -0.2175,\n",
       "          -0.5836, -0.9632,  0.9761, -0.9478,  0.5178, -0.4245, -0.3188,  0.8555,\n",
       "           0.9054,  0.6043,  0.8860, -0.7687, -0.7968,  0.4638,  0.6396]]),\n",
       " tensor([[-1.1915, -0.2368,  2.0795,  0.5660, -0.6772,  0.2471, -0.8244,  0.7358,\n",
       "           0.9690, -0.9332, -0.9966,  0.4788,  0.3593,  0.0828,  0.8779, -0.6706,\n",
       "          -0.1650,  0.8407, -0.7418, -0.9863,  0.5415,  0.9949,  0.3255,  0.9105,\n",
       "           0.1006,  0.9456, -0.4136,  0.2002,  0.6155, -0.7532, -0.9797,  0.7881,\n",
       "          -0.6578, -0.3923,  0.9702,  0.9909,  0.9198,  0.2423, -0.1345, -0.7218,\n",
       "           0.4702, -0.2665,  0.6921, -0.8826, -0.9638, -0.9991, -0.8300,  0.5138,\n",
       "          -0.0419,  0.5578,  0.8579,  0.0837, -0.9259,  0.8816, -0.9965, -0.3777,\n",
       "           0.4720, -0.1669,  0.6995,  0.8323,  0.9860, -0.7147, -0.5544],\n",
       "         [-0.7914,  0.6022,  1.6245, -0.6094,  0.9489, -0.9245, -0.7929, -0.3157,\n",
       "           0.3811,  0.9663, -0.5991, -0.7047,  0.2573, -0.8007, -0.7095,  0.4973,\n",
       "           0.9594,  1.0000, -0.8676,  0.2821,  0.0069, -0.8629,  0.5413,  0.0137,\n",
       "           0.5054, -0.8408, -0.9999, -0.8722, -0.9103, -0.0274, -0.4892,  0.4139,\n",
       "           0.9996,  0.8533, -0.7535, -0.0548, -0.5214, -0.6574,  0.9985, -0.8898,\n",
       "           0.9908, -0.1094, -0.4563, -0.1357,  0.9940,  0.8120, -0.2688, -0.2175,\n",
       "          -0.5836, -0.9632,  0.9761, -0.9478,  0.5178, -0.4245, -0.3188,  0.8555,\n",
       "           0.9054,  0.6043,  0.8860, -0.7687, -0.7968,  0.4638,  0.6396]]))"
      ]
     },
     "metadata": {},
     "output_type": "display_data"
    },
    {
     "data": {
      "text/plain": [
       "(16, 9.416409492492676)"
      ]
     },
     "metadata": {},
     "output_type": "display_data"
    },
    {
     "data": {
      "image/jpeg": "[encoded data removed]",
      "image/png": "[encoded data removed]",
      "text/plain": [
       "<PIL.Image.Image image mode=RGB size=100x100>"
      ]
     },
     "metadata": {},
     "output_type": "display_data"
    },
    {
     "data": {
      "image/jpeg": "[encoded data removed]",
      "image/png": "[encoded data removed]",
      "text/plain": [
       "<PIL.Image.Image image mode=RGB size=100x100>"
      ]
     },
     "metadata": {},
     "output_type": "display_data"
    },
    {
     "data": {
      "text/plain": [
       "(tensor([[ 0.7529,  0.7645,  1.9352,  0.7007,  0.6743, -0.2020, -0.7135, -0.7385,\n",
       "           0.9794, -0.9998, -0.9959, -0.3958,  0.0181,  0.0907,  0.9184, -0.0363,\n",
       "          -0.1807, -0.7269, -0.9993, -0.9835,  0.6867,  0.0725,  0.3555, -0.9984,\n",
       "           0.9974,  0.9347, -0.0567,  0.1447,  0.6646,  0.1133,  0.9895,  0.7472,\n",
       "          -0.9936,  0.2863,  0.9932, -0.2252,  0.9581,  0.1166,  0.9743,  0.5486,\n",
       "           0.2316, -0.4388,  0.8361, -0.9728,  0.8986,  0.9174, -0.4506, -0.7886,\n",
       "           0.3980,  0.8927,  0.6149,  0.7303, -0.8046, -0.9698, -0.6832,  0.5939,\n",
       "          -0.2437, -0.9978, -0.9556,  0.4727, -0.0666, -0.2947, -0.8812],\n",
       "         [ 0.9860,  0.1537,  1.6182,  0.0440,  0.4643, -0.9318, -0.9990,  0.8857,\n",
       "           0.3629, -0.0880,  0.8224, -0.6762,  0.9961,  0.5689, -0.7367, -0.1753,\n",
       "           0.9357,  0.9963,  0.9845, -0.3527,  0.0854, -0.3451, -0.6601,  0.1702,\n",
       "           0.9386, -0.7511, -0.9854, -0.6478,  0.9917, -0.3354,  0.7618,  0.1284,\n",
       "           0.9421, -0.9870,  0.2547, -0.6319,  0.1608, -0.9670,  0.7751, -0.3173,\n",
       "          -0.4927, -0.9795, -0.9483,  0.8702,  0.2014,  0.6019, -0.8575, -0.3946,\n",
       "           0.7986,  0.5145, -0.9188,  0.9613, -0.8824,  0.7252,  0.2755, -0.4706,\n",
       "           0.6885,  0.5297,  0.8304,  0.9987, -0.8482, -0.5572, -0.0518]]),\n",
       " tensor([[ 0.7529,  0.7645,  1.9352,  0.7007,  0.6743, -0.2020, -0.7135, -0.7385,\n",
       "           0.9794, -0.9998, -0.9959, -0.3958,  0.0181,  0.0907,  0.9184, -0.0363,\n",
       "          -0.1807, -0.7269, -0.9993, -0.9835,  0.6867,  0.0725,  0.3555, -0.9984,\n",
       "           0.9974,  0.9347, -0.0568,  0.1447,  0.6646,  0.1133,  0.9895,  0.7472,\n",
       "          -0.9936,  0.2863,  0.9932, -0.2252,  0.9581,  0.1166,  0.9743,  0.5486,\n",
       "           0.2316, -0.4388,  0.8361, -0.9728,  0.8986,  0.9174, -0.4506, -0.7886,\n",
       "           0.3980,  0.8927,  0.6149,  0.7303, -0.8046, -0.9698, -0.6832,  0.5939,\n",
       "          -0.2437, -0.9978, -0.9556,  0.4727, -0.0666, -0.2947, -0.8812],\n",
       "         [ 0.9860,  0.1537,  1.6182,  0.0440,  0.4643, -0.9318, -0.9990,  0.8857,\n",
       "           0.3629, -0.0880,  0.8224, -0.6762,  0.9961,  0.5689, -0.7367, -0.1753,\n",
       "           0.9357,  0.9963,  0.9845, -0.3527,  0.0854, -0.3451, -0.6601,  0.1702,\n",
       "           0.9386, -0.7511, -0.9854, -0.6478,  0.9917, -0.3354,  0.7618,  0.1284,\n",
       "           0.9421, -0.9870,  0.2547, -0.6319,  0.1608, -0.9670,  0.7751, -0.3173,\n",
       "          -0.4927, -0.9795, -0.9483,  0.8702,  0.2014,  0.6019, -0.8575, -0.3946,\n",
       "           0.7986,  0.5145, -0.9188,  0.9613, -0.8824,  0.7252,  0.2755, -0.4705,\n",
       "           0.6886,  0.5297,  0.8304,  0.9987, -0.8482, -0.5572, -0.0518]]))"
      ]
     },
     "metadata": {},
     "output_type": "display_data"
    },
    {
     "data": {
      "text/plain": [
       "(17, 11.987947463989258)"
      ]
     },
     "metadata": {},
     "output_type": "display_data"
    },
    {
     "data": {
      "image/jpeg": "[encoded data removed]",
      "image/png": "[encoded data removed]",
      "text/plain": [
       "<PIL.Image.Image image mode=RGB size=100x100>"
      ]
     },
     "metadata": {},
     "output_type": "display_data"
    },
    {
     "data": {
      "image/jpeg": "[encoded data removed]",
      "image/png": "[encoded data removed]",
      "text/plain": [
       "<PIL.Image.Image image mode=RGB size=100x100>"
      ]
     },
     "metadata": {},
     "output_type": "display_data"
    },
    {
     "data": {
      "text/plain": [
       "(tensor([[-0.7236, -1.4501,  1.5829, -0.7632,  0.9877, -0.9663, -0.6461, -0.1561,\n",
       "           0.2576,  0.9863, -0.3083, -0.4977, -0.1651, -0.9513, -0.8673, -0.3256,\n",
       "           0.5866,  0.8634, -0.9455,  0.8098,  0.5045,  0.6157,  0.9502,  0.8712,\n",
       "           0.7880,  0.3117, -0.4910,  0.9703,  0.5923, -0.8554,  0.2418, -0.8057,\n",
       "          -0.5179,  0.4693, -0.9545,  0.8861, -0.8830,  0.2983, -0.4636, -0.8288,\n",
       "          -0.5694, -0.8215,  0.5596, -0.8220, -0.5702, -0.9275,  0.9362,  0.9369,\n",
       "          -0.3738,  0.3515, -0.3497,  0.6934,  0.6581, -0.6553, -0.7205, -0.7529,\n",
       "          -0.7554, -0.9993, -0.9910,  0.9900,  0.0383,  0.1339,  0.1412],\n",
       "         [-1.0340, -0.5428,  1.4552,  0.1065, -0.9910, -0.9901, -0.9943, -0.1339,\n",
       "          -0.1401, -0.2119,  0.2655,  0.2775,  0.9773, -0.9641, -0.9607, -0.4141,\n",
       "          -0.5119, -0.5332,  0.9102,  0.8591,  0.8460, -0.7538, -0.8795, -0.9022,\n",
       "           0.6571,  0.4760,  0.4314, -0.9906, -0.8372, -0.7783, -0.1365, -0.5469,\n",
       "          -0.6279,  0.2705,  0.9157,  0.9774, -0.9627, -0.4018, -0.2116, -0.5209,\n",
       "          -0.7359, -0.4136,  0.8536, -0.6771, -0.9105, -0.8893,  0.9965,  0.7531,\n",
       "           0.4573, -0.0832,  0.6579, -0.8134, -0.1658,  0.9909, -0.5817, -0.9862,\n",
       "          -0.1343,  0.9463,  0.3271, -0.2661, -0.3232,  0.9450, -0.9639]]),\n",
       " tensor([[-0.7236, -1.4501,  1.5829, -0.7632,  0.9877, -0.9663, -0.6461, -0.1561,\n",
       "           0.2576,  0.9863, -0.3083, -0.4977, -0.1651, -0.9513, -0.8673, -0.3256,\n",
       "           0.5866,  0.8634, -0.9455,  0.8098,  0.5045,  0.6157,  0.9502,  0.8712,\n",
       "           0.7880,  0.3117, -0.4910,  0.9703,  0.5923, -0.8554,  0.2418, -0.8057,\n",
       "          -0.5179,  0.4693, -0.9545,  0.8861, -0.8830,  0.2983, -0.4636, -0.8288,\n",
       "          -0.5694, -0.8215,  0.5595, -0.8220, -0.5702, -0.9275,  0.9362,  0.9369,\n",
       "          -0.3738,  0.3515, -0.3497,  0.6934,  0.6581, -0.6553, -0.7205, -0.7529,\n",
       "          -0.7554, -0.9993, -0.9910,  0.9900,  0.0383,  0.1339,  0.1412],\n",
       "         [-1.0340, -0.5428,  1.4552,  0.1065, -0.9910, -0.9901, -0.9943, -0.1339,\n",
       "          -0.1401, -0.2119,  0.2655,  0.2775,  0.9773, -0.9641, -0.9607, -0.4141,\n",
       "          -0.5119, -0.5332,  0.9102,  0.8591,  0.8460, -0.7538, -0.8795, -0.9022,\n",
       "           0.6571,  0.4760,  0.4314, -0.9906, -0.8372, -0.7783, -0.1365, -0.5469,\n",
       "          -0.6279,  0.2705,  0.9157,  0.9774, -0.9627, -0.4018, -0.2116, -0.5209,\n",
       "          -0.7359, -0.4136,  0.8536, -0.6770, -0.9105, -0.8893,  0.9965,  0.7531,\n",
       "           0.4573, -0.0832,  0.6579, -0.8134, -0.1658,  0.9909, -0.5817, -0.9862,\n",
       "          -0.1343,  0.9463,  0.3271, -0.2661, -0.3232,  0.9450, -0.9639]]))"
      ]
     },
     "metadata": {},
     "output_type": "display_data"
    },
    {
     "data": {
      "text/plain": [
       "(18, 9.270702362060547)"
      ]
     },
     "metadata": {},
     "output_type": "display_data"
    },
    {
     "data": {
      "image/jpeg": "[encoded data removed]",
      "image/png": "[encoded data removed]",
      "text/plain": [
       "<PIL.Image.Image image mode=RGB size=100x100>"
      ]
     },
     "metadata": {},
     "output_type": "display_data"
    },
    {
     "data": {
      "image/jpeg": "[encoded data removed]",
      "image/png": "[encoded data removed]",
      "text/plain": [
       "<PIL.Image.Image image mode=RGB size=100x100>"
      ]
     },
     "metadata": {},
     "output_type": "display_data"
    },
    {
     "data": {
      "text/plain": [
       "(tensor([[ 0.7770,  1.7616,  1.0036,  0.6446, -0.6808, -0.0114, -0.7646,  0.7325,\n",
       "          -0.9999, -0.9856, -0.9973,  0.0228,  0.1691,  0.0731,  0.9997, -0.3333,\n",
       "          -0.1459,  0.0456, -0.9428, -0.9893,  0.9990,  0.6286,  0.2886,  0.0910,\n",
       "           0.7778,  0.9575,  0.9958,  0.9777,  0.5526,  0.1813,  0.2098,  0.8334,\n",
       "           0.9834,  0.4103,  0.9211,  0.3566, -0.9119,  0.3892,  0.9343, -0.7483,\n",
       "           0.7171,  0.6663,  0.6633, -0.6970,  0.7457, -0.9928, -0.9996,  0.9937,\n",
       "          -0.1200, -0.0284,  0.1120,  0.2383,  0.0567,  0.2226, -0.9712, -0.9984,\n",
       "          -0.9749, -0.4629, -0.1133, -0.4341,  0.8864,  0.9936,  0.9009],\n",
       "         [ 0.9711,  1.2026,  1.1292,  0.0906, -0.5945, -0.3949, -0.9959, -0.8041,\n",
       "          -0.9187, -0.1805,  0.9560,  0.7257,  0.9836,  0.2932,  0.6880, -0.3551,\n",
       "           0.5607,  0.9986,  0.9348, -0.8280, -0.0532, -0.6638, -0.9285, -0.1063,\n",
       "           0.7479,  0.3713, -0.9943, -0.9929, -0.6895,  0.2114,  0.1186, -0.7243,\n",
       "           0.9774, -0.2356,  0.9988,  0.4132, -0.9719,  0.0492,  0.9107,  0.4579,\n",
       "           0.0982,  0.7525,  0.8890, -0.9952,  0.6586,  0.8141, -0.1955,  0.9912,\n",
       "           0.5807,  0.9807, -0.1325,  0.9455, -0.3835, -0.2626, -0.3256,  0.9235,\n",
       "          -0.9649, -0.6157, -0.7084,  0.5068, -0.7880,  0.7058,  0.8620]]),\n",
       " tensor([[ 0.7770,  1.7616,  1.0036,  0.6446, -0.6808, -0.0114, -0.7646,  0.7325,\n",
       "          -0.9999, -0.9856, -0.9973,  0.0228,  0.1691,  0.0731,  0.9997, -0.3333,\n",
       "          -0.1459,  0.0456, -0.9428, -0.9893,  0.9990,  0.6286,  0.2886,  0.0910,\n",
       "           0.7778,  0.9575,  0.9958,  0.9777,  0.5526,  0.1813,  0.2098,  0.8334,\n",
       "           0.9834,  0.4103,  0.9211,  0.3566, -0.9120,  0.3892,  0.9343, -0.7483,\n",
       "           0.7171,  0.6663,  0.6633, -0.6970,  0.7457, -0.9928, -0.9996,  0.9937,\n",
       "          -0.1200, -0.0284,  0.1120,  0.2383,  0.0567,  0.2226, -0.9712, -0.9984,\n",
       "          -0.9749, -0.4629, -0.1133, -0.4341,  0.8864,  0.9936,  0.9009],\n",
       "         [ 0.9711,  1.2026,  1.1292,  0.0906, -0.5945, -0.3949, -0.9959, -0.8041,\n",
       "          -0.9187, -0.1805,  0.9560,  0.7257,  0.9836,  0.2932,  0.6880, -0.3551,\n",
       "           0.5607,  0.9986,  0.9348, -0.8280, -0.0532, -0.6638, -0.9285, -0.1063,\n",
       "           0.7479,  0.3713, -0.9943, -0.9929, -0.6895,  0.2114,  0.1186, -0.7243,\n",
       "           0.9774, -0.2356,  0.9988,  0.4132, -0.9719,  0.0492,  0.9107,  0.4579,\n",
       "           0.0982,  0.7525,  0.8890, -0.9952,  0.6586,  0.8141, -0.1955,  0.9912,\n",
       "           0.5807,  0.9807, -0.1325,  0.9455, -0.3835, -0.2626, -0.3256,  0.9235,\n",
       "          -0.9649, -0.6157, -0.7084,  0.5068, -0.7880,  0.7058,  0.8620]]))"
      ]
     },
     "metadata": {},
     "output_type": "display_data"
    },
    {
     "data": {
      "text/plain": [
       "(19, 16.75741195678711)"
      ]
     },
     "metadata": {},
     "output_type": "display_data"
    },
    {
     "data": {
      "image/jpeg": "[encoded data removed]",
      "image/png": "[encoded data removed]",
      "text/plain": [
       "<PIL.Image.Image image mode=RGB size=100x100>"
      ]
     },
     "metadata": {},
     "output_type": "display_data"
    },
    {
     "data": {
      "image/jpeg": "[encoded data removed]",
      "image/png": "[encoded data removed]",
      "text/plain": [
       "<PIL.Image.Image image mode=RGB size=100x100>"
      ]
     },
     "metadata": {},
     "output_type": "display_data"
    },
    {
     "data": {
      "text/plain": [
       "(tensor([[-0.7598, -1.3785,  1.5381, -0.6851,  0.9280, -0.9928, -0.7285, -0.3725,\n",
       "           0.1194,  0.9981, -0.6913, -0.2371,  0.0614, -0.7225, -0.9715,  0.1226,\n",
       "           0.9990,  0.4607, -0.9925,  0.0441,  0.8875, -0.2433,  0.0882,  0.8178,\n",
       "           0.9700, -0.9961,  0.5754, -0.4720, -0.1757,  0.9412,  0.8816,  0.9844,\n",
       "          -0.3377, -0.8322, -0.3460, -0.6358,  0.5545,  0.9383, -0.7719, -0.9229,\n",
       "          -0.6492,  0.9815, -0.3851,  0.7606,  0.1916,  0.7108, -0.9876,  0.3760,\n",
       "          -0.7034,  0.1571, -0.9266, -0.9999, -0.3104, -0.6969, -0.0106, -0.9506,\n",
       "           0.7172,  0.0212,  0.5901, -0.9996, -0.9998,  0.8073,  0.0287],\n",
       "         [-1.0295, -0.5876,  1.4445,  0.0927, -0.9623, -0.9848, -0.9957, -0.2718,\n",
       "          -0.1735, -0.1845,  0.5232,  0.3417,  0.9828, -0.8522, -0.9398, -0.3628,\n",
       "          -0.8917, -0.6423,  0.9319,  0.4526,  0.7665, -0.6761, -0.8072, -0.9846,\n",
       "           0.7368, -0.5903,  0.1750, -0.9963,  0.9530, -0.3446,  0.0858, -0.3030,\n",
       "          -0.9388, -0.1710, -0.5776,  0.6470, -0.9853, -0.8163,  0.7625,  0.3370,\n",
       "           0.9430,  0.9867,  0.9415,  0.3328,  0.1628,  0.6345,  0.6277,  0.3213,\n",
       "           0.7729, -0.7785, -0.9470,  0.9808, -0.9773, -0.6085,  0.1948,  0.2120,\n",
       "           0.7936,  0.3822, -0.4143, -0.9658, -0.9241, -0.9101,  0.2594]]),\n",
       " tensor([[-0.7598, -1.3785,  1.5381, -0.6851,  0.9280, -0.9928, -0.7285, -0.3725,\n",
       "           0.1194,  0.9981, -0.6913, -0.2371,  0.0614, -0.7225, -0.9715,  0.1226,\n",
       "           0.9990,  0.4607, -0.9925,  0.0441,  0.8875, -0.2433,  0.0882,  0.8178,\n",
       "           0.9700, -0.9961,  0.5754, -0.4720, -0.1757,  0.9412,  0.8816,  0.9844,\n",
       "          -0.3377, -0.8322, -0.3460, -0.6358,  0.5545,  0.9383, -0.7719, -0.9229,\n",
       "          -0.6492,  0.9815, -0.3851,  0.7606,  0.1916,  0.7108, -0.9876,  0.3760,\n",
       "          -0.7034,  0.1571, -0.9266, -0.9999, -0.3104, -0.6969, -0.0106, -0.9506,\n",
       "           0.7172,  0.0212,  0.5901, -0.9996, -0.9998,  0.8073,  0.0287],\n",
       "         [-1.0295, -0.5876,  1.4445,  0.0927, -0.9623, -0.9848, -0.9957, -0.2718,\n",
       "          -0.1735, -0.1845,  0.5232,  0.3417,  0.9828, -0.8522, -0.9398, -0.3628,\n",
       "          -0.8917, -0.6423,  0.9319,  0.4526,  0.7665, -0.6761, -0.8072, -0.9846,\n",
       "           0.7368, -0.5903,  0.1750, -0.9963,  0.9530, -0.3446,  0.0858, -0.3030,\n",
       "          -0.9387, -0.1710, -0.5776,  0.6470, -0.9853, -0.8163,  0.7625,  0.3370,\n",
       "           0.9430,  0.9867,  0.9415,  0.3328,  0.1628,  0.6345,  0.6277,  0.3213,\n",
       "           0.7729, -0.7785, -0.9470,  0.9808, -0.9773, -0.6085,  0.1948,  0.2120,\n",
       "           0.7936,  0.3822, -0.4143, -0.9658, -0.9241, -0.9101,  0.2594]]))"
      ]
     },
     "metadata": {},
     "output_type": "display_data"
    },
    {
     "data": {
      "text/plain": [
       "(20, 9.340271949768066)"
      ]
     },
     "metadata": {},
     "output_type": "display_data"
    },
    {
     "data": {
      "image/jpeg": "[encoded data removed]",
      "image/png": "[encoded data removed]",
      "text/plain": [
       "<PIL.Image.Image image mode=RGB size=100x100>"
      ]
     },
     "metadata": {},
     "output_type": "display_data"
    },
    {
     "data": {
      "image/jpeg": "[encoded data removed]",
      "image/png": "[encoded data removed]",
      "text/plain": [
       "<PIL.Image.Image image mode=RGB size=100x100>"
      ]
     },
     "metadata": {},
     "output_type": "display_data"
    }
   ],
   "source": [
    "# PSNR for test dataset\n",
    "\n",
    "import torch\n",
    "\n",
    "calculate_loss = MSELossFunction()\n",
    "model = model.eval()\n",
    "\n",
    "with torch.no_grad():\n",
    "    for index in range(test_dataset.count):\n",
    "        image, posture = test_dataset.get_image_and_posture(index)\n",
    "        rendered_image = model(posture)\n",
    "        loss = calculate_loss(rendered_image, image)\n",
    "        quality = 10 * torch.log10(1 / loss)\n",
    "        display((index, quality.item()))\n",
    "        display_image(image)\n",
    "        display_image(rendered_image)"
   ]
  }
 ],
 "metadata": {
  "kernelspec": {
   "display_name": ".venv",
   "language": "python",
   "name": "python3"
  },
  "language_info": {
   "codemirror_mode": {
    "name": "ipython",
    "version": 3
   },
   "file_extension": ".py",
   "mimetype": "text/x-python",
   "name": "python",
   "nbconvert_exporter": "python",
   "pygments_lexer": "ipython3",
   "version": "3.12.2"
  }
 },
 "nbformat": 4,
 "nbformat_minor": 2
}
